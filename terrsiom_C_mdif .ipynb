{
 "cells": [
  {
   "cell_type": "markdown",
   "id": "22614e91",
   "metadata": {
    "id": "22614e91"
   },
   "source": [
    "# Project about terrorism"
   ]
  },
  {
   "cell_type": "markdown",
   "id": "d4aed880",
   "metadata": {
    "id": "d4aed880"
   },
   "source": [
    "` First `\n",
    "+  Download Dataset & load :- [ https://drive.google.com/drive/folders/1KxVUhXePXaQBzBz9kMHEMl3lCjt3C-4P?usp=drive_link]\n",
    "\n",
    "`second`\n",
    "+ import nessary libraries\n",
    "\n",
    "` third `\n",
    "+\n",
    "\n",
    "\n"
   ]
  },
  {
   "cell_type": "markdown",
   "id": "55a5dbcd",
   "metadata": {
    "id": "6992ce85"
   },
   "source": [
    "# Introduction\n",
    "\n",
    "This analysis delves into **global terrorism trends**, exploring how terrorist activities have evolved over time and identifying regions with significant deviations from global patterns. By examining attack success rates, prevalent tactics, and regional variations, we aim to uncover key insights into the nature of terrorist incidents worldwide. This exploration utilizes interactive plots and geographic visualizations to enhance understanding and engagement.\n",
    "\n",
    "---\n",
    "\n",
    "# About the Dataset\n",
    "\n",
    "The dataset, sourced from the **Global Terrorism Database (GTD)**, provides comprehensive data on over **180,000 terrorist attacks** from 1970 to 2017. Managed by the National Consortium for the Study of Terrorism and Responses to Terrorism (START), this open-source repository offers detailed information on both domestic and international incidents, enabling a thorough examination of global terrorism trends.\n",
    "\n",
    "---\n",
    "\n",
    "![Global Terrorism Database](https://www.example.com/your-image-link.jpg)  <!-- Replace with an appropriate image link -->\n",
    "\n",
    "**Key Features:**\n",
    "- **Time Span:** 1970 - 2017\n",
    "- **Number of Incidents:** 180,000+\n",
    "- **Scope:** Domestic and International\n",
    "\n"
   ]
  },
  {
   "cell_type": "code",
   "execution_count": null,
   "id": "36cf172f",
   "metadata": {
    "id": "36cf172f"
   },
   "outputs": [],
   "source": []
  },
  {
   "cell_type": "raw",
   "id": "0d7e916c",
   "metadata": {
    "id": "0d7e916c"
   },
   "source": [
    " https://drive.google.com/drive/folders/1KxVUhXePXaQBzBz9kMHEMl3lCjt3C-4P?usp=drive_link"
   ]
  },
  {
   "cell_type": "code",
   "execution_count": 1,
   "id": "34fa30bb",
   "metadata": {
    "id": "34fa30bb"
   },
   "outputs": [],
   "source": [
    "# Import Libraries\n",
    "import pandas as pd\n",
    "import numpy as np\n",
    "import os\n",
    "import chardet\n",
    "import missingno as msno\n",
    "import time\n",
    "import seaborn as sns\n",
    "import matplotlib.pyplot as plt\n",
    "import matplotlib.animation as animation\n",
    "import cartopy.crs as ccrs\n",
    "import cartopy.feature\n",
    "import io\n",
    "import base64\n",
    "from IPython.display import HTML\n",
    "# plt.style.use('ggplot')\n",
    "\n",
    "import warnings\n",
    "warnings.filterwarnings('ignore')"
   ]
  },
  {
   "cell_type": "code",
   "execution_count": 2,
   "id": "f3fce34d",
   "metadata": {
    "id": "f3fce34d"
   },
   "outputs": [],
   "source": [
    "# extra_addition\n",
    "pd.set_option('display.max_columns', 1000)  # Show 1000 columns\n",
    "pd.set_option('display.max_rows', 1000)    # Show 1000 rows"
   ]
  },
  {
   "cell_type": "code",
   "execution_count": 3,
   "id": "ab94c6e2",
   "metadata": {
    "colab": {
     "base_uri": "https://localhost:8080/",
     "height": 35
    },
    "id": "ab94c6e2",
    "outputId": "b5bb73f9-0281-4da9-a435-7689b8fd2859"
   },
   "outputs": [
    {
     "data": {
      "text/plain": [
       "'F:\\\\from_C\\\\proj_jupyter\\\\globalterrorismdb_0718dist.csv'"
      ]
     },
     "execution_count": 3,
     "metadata": {},
     "output_type": "execute_result"
    }
   ],
   "source": [
    "path = os.path.join(os.getcwd(),\"globalterrorismdb_0718dist.csv\")\n",
    "path"
   ]
  },
  {
   "cell_type": "markdown",
   "id": "3b28fb84",
   "metadata": {
    "id": "2ae920c3"
   },
   "source": [
    "### After download data on local machine check what is encoding using to encode data for this using ( chardet ) to define type data to avoid down UnicodeDecodeError."
   ]
  },
  {
   "cell_type": "code",
   "execution_count": 4,
   "id": "72988d62",
   "metadata": {},
   "outputs": [],
   "source": [
    "# If you don't have chardet installed, uncomment the line below to install it:\n",
    "# !pip install chardet"
   ]
  },
  {
   "cell_type": "code",
   "execution_count": 5,
   "id": "598766e6",
   "metadata": {
    "colab": {
     "base_uri": "https://localhost:8080/"
    },
    "id": "598766e6",
    "outputId": "9ef53d1e-9f51-4dd7-84ff-089661e59aa7"
   },
   "outputs": [
    {
     "name": "stdout",
     "output_type": "stream",
     "text": [
      "{'encoding': 'ISO-8859-1', 'confidence': 0.73, 'language': ''}\n"
     ]
    }
   ],
   "source": [
    "with open(path,\"rb\") as obj:\n",
    "    res= chardet.detect(obj.read(10000))\n",
    "print(res)"
   ]
  },
  {
   "cell_type": "markdown",
   "id": "6d1455c3",
   "metadata": {
    "id": "6d1455c3"
   },
   "source": [
    "# - Load and Explore the dataset"
   ]
  },
  {
   "cell_type": "code",
   "execution_count": 6,
   "id": "cace3dc9",
   "metadata": {
    "colab": {
     "base_uri": "https://localhost:8080/"
    },
    "id": "cace3dc9",
    "outputId": "77974d04-92b8-427d-ccc2-f4dc995ab999",
    "scrolled": true
   },
   "outputs": [
    {
     "data": {
      "text/plain": [
       "9.008770227432251"
      ]
     },
     "execution_count": 6,
     "metadata": {},
     "output_type": "execute_result"
    }
   ],
   "source": [
    "start_time = time.time()\n",
    "\n",
    "df = pd.read_csv(\"globalterrorismdb_0718dist.csv\",encoding='ISO-8859-1',low_memory=False)\n",
    "\n",
    "pandas_duration = time.time() - start_time\n",
    "\n",
    "pandas_duration"
   ]
  },
  {
   "cell_type": "code",
   "execution_count": null,
   "id": "53c3408c",
   "metadata": {
    "colab": {
     "base_uri": "https://localhost:8080/",
     "height": 365
    },
    "id": "53c3408c",
    "outputId": "ae88fcfa-b1fe-44e5-f784-10a122b4a8f7",
    "scrolled": true
   },
   "outputs": [],
   "source": [
    "df.head()"
   ]
  },
  {
   "cell_type": "code",
   "execution_count": null,
   "id": "11805fea",
   "metadata": {
    "colab": {
     "base_uri": "https://localhost:8080/"
    },
    "id": "11805fea",
    "outputId": "d7c9ceb8-5aba-41a9-f0ea-f7d940809047"
   },
   "outputs": [],
   "source": [
    "df.shape"
   ]
  },
  {
   "cell_type": "code",
   "execution_count": null,
   "id": "ffeeec1c",
   "metadata": {
    "colab": {
     "base_uri": "https://localhost:8080/"
    },
    "id": "ffeeec1c",
    "outputId": "9e09e51f-eece-4d05-f8bf-f901f80e4bea",
    "scrolled": true
   },
   "outputs": [],
   "source": [
    "df.columns.to_list()"
   ]
  },
  {
   "cell_type": "code",
   "execution_count": 7,
   "id": "e9e9b699",
   "metadata": {
    "id": "e9e9b699"
   },
   "outputs": [],
   "source": [
    "# rename some columns which needed it to exploring. \n",
    "df.rename(columns={'eventid':'id','iyear':'Year','imonth':'Month','iday':'Day','country_txt':'Country','provstate':'State',\n",
    "                       'region_txt':'Region','attacktype1_txt':'AttackType','target1':'Target','nkill':'Killed',\n",
    "                       'nwound':'Wounded','summary':'Summary','gname':'Group','targtype1_txt':'Target_type',\n",
    "                       'weaptype1_txt':'Weapon_type','motive':'Motive'},inplace=True )"
   ]
  },
  {
   "cell_type": "markdown",
   "id": "5c0ac6cc",
   "metadata": {
    "id": "5c0ac6cc"
   },
   "source": [
    "# Cheat Sheet showing the missing value & some other features!!"
   ]
  },
  {
   "cell_type": "code",
   "execution_count": null,
   "id": "39b9a27f",
   "metadata": {
    "colab": {
     "base_uri": "https://localhost:8080/",
     "height": 1000
    },
    "id": "39b9a27f",
    "outputId": "ec88488e-b8ee-4506-9419-867714490fb4",
    "scrolled": false
   },
   "outputs": [],
   "source": [
    "\n",
    "summary = pd.DataFrame({\n",
    "    'Column Name': df.columns,\n",
    "    'Data Type': df.dtypes,\n",
    "    'Number of Nulls': df.isnull().sum(),\n",
    "    'Percentage of Nulls': (df.isnull().sum() / len(df)) * 100,\n",
    "    'Count of Non-Null Data': df.notnull().sum(),\n",
    "    'number Unique Values': df.nunique()\n",
    "})\n",
    "\n",
    "summary['Percentage of Nulls'] = summary['Percentage of Nulls'].map('{:.4f}%'.format)\n",
    "\n",
    "# # Ensure column names are unique\n",
    "# summary.columns = [f'{col}_{i}' if summary.columns.tolist().count(col) > 1 else col\n",
    "#                    for i, col in enumerate(summary.columns)]\n",
    "\n",
    "# # Define a function to highlight rows where Number of Nulls > 0\n",
    "# def highlight_nulls(row):\n",
    "#     return ['background-color: yellow' if row['Number of Nulls'] > 0 else '' for _ in row]\n",
    "\n",
    "# # Apply the styling to the DataFrame\n",
    "# styled_summary = summary.style.apply(highlight_nulls, axis=1)\n",
    "\n",
    "# # Display the styled DataFrame\n",
    "# styled_summary\n",
    "\n",
    "summary = summary.reset_index(drop=True)\n",
    "summary.set_index('Column Name', inplace=True)"
   ]
  },
  {
   "cell_type": "code",
   "execution_count": null,
   "id": "8ba86372",
   "metadata": {
    "id": "8ba86372"
   },
   "outputs": [],
   "source": [
    "summary.T"
   ]
  },
  {
   "cell_type": "code",
   "execution_count": null,
   "id": "343a1679",
   "metadata": {
    "colab": {
     "base_uri": "https://localhost:8080/"
    },
    "id": "343a1679",
    "outputId": "71c184ca-1663-4a8a-fd45-3e7f8d206e6d"
   },
   "outputs": [],
   "source": [
    "# ((df.isna().sum()/len(df))*100).sort_values()"
   ]
  },
  {
   "cell_type": "code",
   "execution_count": null,
   "id": "6ef03044",
   "metadata": {},
   "outputs": [],
   "source": []
  },
  {
   "cell_type": "code",
   "execution_count": null,
   "id": "319c06a8",
   "metadata": {
    "id": "4f18f75b"
   },
   "outputs": [],
   "source": [
    "# A plot shows just how much the data is missing values\n",
    "plt.style.use('default')\n",
    "missing_values = df.isna().sum()\n",
    "miss_value = missing_values[missing_values > 0]\n",
    "\n",
    "# rest_miss = len(df)- miss_value\n",
    "# rest_miss [miss_value.index]\n",
    "\n",
    "msno.bar(df[miss_value.index],fontsize=21,sort=\"ascending\",color=sns.color_palette(\"Reds\", len(miss_value)))\n",
    "plt.title('Missing Values in Dataset ', fontsize=24, weight='bold')\n",
    "plt.grid(axis='x', linestyle='--', linewidth=0.9, alpha=0.9)\n",
    "plt.show()\n",
    "# msno.bar(df,fontsize=21,color=\"b\",sort=\"descending\")\n"
   ]
  },
  {
   "cell_type": "code",
   "execution_count": null,
   "id": "2a9599c0",
   "metadata": {
    "colab": {
     "base_uri": "https://localhost:8080/"
    },
    "id": "2a9599c0",
    "outputId": "a8c067ef-b45f-4158-c81a-cd18b93fc427"
   },
   "outputs": [],
   "source": [
    "df.info()"
   ]
  },
  {
   "cell_type": "code",
   "execution_count": null,
   "id": "d16564b1",
   "metadata": {
    "colab": {
     "base_uri": "https://localhost:8080/"
    },
    "id": "d16564b1",
    "outputId": "978c5643-7d4b-4c28-c1af-49cfe34b4872",
    "scrolled": true
   },
   "outputs": [],
   "source": [
    "df.dtypes.value_counts()"
   ]
  },
  {
   "cell_type": "code",
   "execution_count": null,
   "id": "f8d1044f",
   "metadata": {
    "colab": {
     "base_uri": "https://localhost:8080/",
     "height": 320
    },
    "id": "f8d1044f",
    "outputId": "af52af2b-2b49-41ed-f83d-03a5f66fe3e7"
   },
   "outputs": [],
   "source": [
    "df.iloc[:,1:].describe()"
   ]
  },
  {
   "cell_type": "raw",
   "id": "9386ca31",
   "metadata": {
    "id": "75b81024"
   },
   "source": []
  },
  {
   "cell_type": "raw",
   "id": "007467af",
   "metadata": {
    "id": "79c81945"
   },
   "source": [
    "#df= df.dropna(thresh=len(df)*.6,axis=1)"
   ]
  },
  {
   "cell_type": "code",
   "execution_count": null,
   "id": "45e9ab4b",
   "metadata": {
    "id": "cad419b9"
   },
   "outputs": [],
   "source": [
    "missing_values = df.isna().sum()\n",
    "miss_value_prec = (missing_values[missing_values > 0]/len(df))*100\n",
    "miss_value = missing_values[missing_values > 0]\n",
    "miss_value\n"
   ]
  },
  {
   "cell_type": "code",
   "execution_count": null,
   "id": "41c07fdf",
   "metadata": {},
   "outputs": [],
   "source": [
    "# features contain nulls \n",
    "indx_na = df.isna().sum()\n",
    "indx_na[indx_na >0].index.to_list()"
   ]
  },
  {
   "cell_type": "code",
   "execution_count": null,
   "id": "c9508d18",
   "metadata": {},
   "outputs": [],
   "source": [
    "## features not contain nulls \n",
    "indx_notna = df.notna().sum()\n",
    "indx_notna[indx_notna == len(df)].index.to_list()"
   ]
  },
  {
   "cell_type": "raw",
   "id": "1dca6ba9",
   "metadata": {},
   "source": [
    "numeric_cols = df.select_dtypes(include=[np.number])\n",
    "\n",
    "# Calculating mean, median, and standard deviation\n",
    "mean_values = numeric_cols.mean()\n",
    "median_values = numeric_cols.median()\n",
    "std_dev_values = numeric_cols.std()"
   ]
  },
  {
   "cell_type": "raw",
   "id": "ba3f940e",
   "metadata": {},
   "source": [
    "mean_values"
   ]
  },
  {
   "cell_type": "raw",
   "id": "0d72a116",
   "metadata": {
    "id": "0d72a116"
   },
   "source": [
    "                                                            # dask\n",
    "import dask.dataframe as dd\n",
    "dtype={'approxdate': 'object',\n",
    "       'attacktype2_txt': 'object',\n",
    "       'attacktype3_txt': 'object',\n",
    "       'claimmode2_txt': 'object',\n",
    "       'claimmode3_txt': 'object',\n",
    "       'corp2': 'object',\n",
    "       'corp3': 'object',\n",
    "       'divert': 'object',\n",
    "       'gname2': 'object',\n",
    "       'gname3': 'object',\n",
    "       'gsubname': 'object',\n",
    "       'gsubname2': 'object',\n",
    "       'gsubname3': 'object',\n",
    "       'guncertain1': 'float64',\n",
    "       'hostkidoutcome_txt': 'object',\n",
    "       'ishostkid': 'float64',\n",
    "       'natlty1': 'float64',\n",
    "       'natlty2_txt': 'object',\n",
    "       'natlty3_txt': 'object',\n",
    "       'ransom': 'float64',\n",
    "       'ransomnote': 'object',\n",
    "       'related': 'object',\n",
    "       'resolution': 'object',\n",
    "       'specificity': 'float64',\n",
    "       'target2': 'object',\n",
    "       'target3': 'object',\n",
    "       'targsubtype1': 'float64',\n",
    "       'targsubtype2_txt': 'object',\n",
    "       'targsubtype3_txt': 'object',\n",
    "       'targtype2_txt': 'object',\n",
    "       'targtype3_txt': 'object',\n",
    "       'weapsubtype2_txt': 'object',\n",
    "       'weapsubtype3_txt': 'object',\n",
    "       'weapsubtype4_txt': 'object',\n",
    "       'weaptype2_txt': 'object',\n",
    "       'weaptype3_txt': 'object',\n",
    "       'weaptype4_txt': 'object'}\n",
    "\n",
    "start_time = time.time()\n",
    "\n",
    "# Read the CSV file into a Dask DataFrame\n",
    "df_dd = dd.read_csv('globalterrorismdb_0718dist.csv',dtype=dtype, encoding='ISO-8859-1',low_memory=False)\n",
    "\n",
    "dask_duration = time.time() - start_time\n",
    "dask_duration\n"
   ]
  },
  {
   "cell_type": "raw",
   "id": "e84ca632",
   "metadata": {
    "id": "e84ca632"
   },
   "source": [
    "df_dd.head()"
   ]
  },
  {
   "cell_type": "code",
   "execution_count": null,
   "id": "4e7881c6",
   "metadata": {},
   "outputs": [],
   "source": [
    "df['resolution'] = pd.to_datetime(df['resolution'], format='%m/%d/%Y')"
   ]
  },
  {
   "cell_type": "code",
   "execution_count": null,
   "id": "7abbedc2",
   "metadata": {},
   "outputs": [],
   "source": []
  },
  {
   "cell_type": "markdown",
   "id": "ee940ae2",
   "metadata": {},
   "source": [
    "### - Numerical Features"
   ]
  },
  {
   "cell_type": "code",
   "execution_count": null,
   "id": "d53361a0",
   "metadata": {
    "scrolled": false
   },
   "outputs": [],
   "source": [
    "# only numeric columns.\n",
    "numeric_cols = df.select_dtypes(include=[np.number])\n",
    "numeric_cols"
   ]
  },
  {
   "cell_type": "code",
   "execution_count": null,
   "id": "e570a63e",
   "metadata": {
    "id": "e570a63e",
    "scrolled": false
   },
   "outputs": [],
   "source": [
    "# Calculate the mean, median, and standard deviation of relevant numeric columns.\n",
    "numeric_cols = df.select_dtypes(include=[np.number])\n",
    "\n",
    "numeric_summary = pd.DataFrame({\n",
    "    'Mean': numeric_cols.mean(),\n",
    "    'Median': numeric_cols.median(),\n",
    "    'Standard Deviation': numeric_cols.std()\n",
    "})\n",
    "\n",
    "numeric_summary = numeric_summary.reset_index().rename(columns={'index': 'Column Name'})[1:].set_index('Column Name').T\n",
    "numeric_summary"
   ]
  },
  {
   "cell_type": "markdown",
   "id": "b1012e18",
   "metadata": {},
   "source": [
    "### - Categorical Features"
   ]
  },
  {
   "cell_type": "code",
   "execution_count": null,
   "id": "04a7d8cb",
   "metadata": {
    "id": "8bbd7abf",
    "scrolled": false
   },
   "outputs": [],
   "source": [
    "#  most frequent values in categorical columns.\n",
    "catego_cols = df.select_dtypes(include=['object'])\n",
    "catego_cols"
   ]
  },
  {
   "cell_type": "code",
   "execution_count": null,
   "id": "01b4a259",
   "metadata": {
    "id": "b5abe941"
   },
   "outputs": [],
   "source": [
    "# Find the most frequent value (mode) for each categorical column\n",
    "most_frequent = catego_cols.mode()\n",
    "most_frequent.index =[\"most_freq_\"]\n",
    "most_frequent"
   ]
  },
  {
   "cell_type": "code",
   "execution_count": null,
   "id": "e82262f2",
   "metadata": {
    "id": "e82262f2"
   },
   "outputs": [],
   "source": [
    " df_terr.iloc[:,1:].corr(numeric_only=True) # correlation between numerical features"
   ]
  },
  {
   "cell_type": "code",
   "execution_count": null,
   "id": "5c4b11e8",
   "metadata": {
    "id": "5c4b11e8"
   },
   "outputs": [],
   "source": [
    "#Heatmap to visualize the correlation between numerical features\n",
    "import pandas as pd\n",
    "import seaborn as sns\n",
    "import matplotlib.pyplot\n",
    "\n",
    "correlation_matrix =  df_terr.iloc[:,1:].corr(numeric_only=True)\n",
    "# correlation_matrix=num_cols.corr()\n",
    "plt.style.use('default')\n",
    "\n",
    "# Create the heatmap\n",
    "plt.figure(figsize=(14, 10))\n",
    "sns.heatmap(correlation_matrix, annot=True, cmap=sns.mpl_palette(\"viridis_r\", as_cmap=True), fmt='.2f', linewidths=0.5, vmin=-1, vmax=1)\n",
    "\n",
    "# Add labels and title\n",
    "plt.title('Correlation Heatmap of Features', fontsize=16, fontweight='bold')\n",
    "plt.xlabel('Features', fontsize=14)\n",
    "plt.ylabel('Features', fontsize=14)\n",
    "\n",
    "# Show the plot\n",
    "plt.show()"
   ]
  },
  {
   "cell_type": "markdown",
   "id": "80403972",
   "metadata": {},
   "source": [
    "---\n",
    "> From a glance at the diagram, it becomes clear that the extent to which the numerical features are related to each other suggests a weak correlation.\n",
    "---"
   ]
  },
  {
   "cell_type": "markdown",
   "id": "105306be",
   "metadata": {
    "id": "105306be"
   },
   "source": [
    "# Time to analysis!\n",
    "---\n",
    "Given the extensive number of columns in the dataset, we'll focus on selecting only the key columns for data preprocessing to ensure a more efficient and manageable analysis. By concentrating on the most relevant columns, we can streamline our efforts and derive meaningful insights from the dataset.\n",
    "\n",
    "---"
   ]
  },
  {
   "cell_type": "code",
   "execution_count": 8,
   "id": "b50fa221",
   "metadata": {
    "colab": {
     "base_uri": "https://localhost:8080/",
     "height": 365
    },
    "id": "b50fa221",
    "outputId": "1ef779a9-75c3-4671-dcfb-9f7494a90cb3"
   },
   "outputs": [
    {
     "data": {
      "text/html": [
       "<div>\n",
       "<style scoped>\n",
       "    .dataframe tbody tr th:only-of-type {\n",
       "        vertical-align: middle;\n",
       "    }\n",
       "\n",
       "    .dataframe tbody tr th {\n",
       "        vertical-align: top;\n",
       "    }\n",
       "\n",
       "    .dataframe thead th {\n",
       "        text-align: right;\n",
       "    }\n",
       "</style>\n",
       "<table border=\"1\" class=\"dataframe\">\n",
       "  <thead>\n",
       "    <tr style=\"text-align: right;\">\n",
       "      <th></th>\n",
       "      <th>id</th>\n",
       "      <th>Year</th>\n",
       "      <th>Month</th>\n",
       "      <th>Day</th>\n",
       "      <th>Country</th>\n",
       "      <th>Region</th>\n",
       "      <th>State</th>\n",
       "      <th>city</th>\n",
       "      <th>latitude</th>\n",
       "      <th>longitude</th>\n",
       "      <th>AttackType</th>\n",
       "      <th>Killed</th>\n",
       "      <th>Wounded</th>\n",
       "      <th>Target</th>\n",
       "      <th>Summary</th>\n",
       "      <th>Group</th>\n",
       "      <th>Target_type</th>\n",
       "      <th>Weapon_type</th>\n",
       "      <th>Motive</th>\n",
       "      <th>success</th>\n",
       "    </tr>\n",
       "  </thead>\n",
       "  <tbody>\n",
       "    <tr>\n",
       "      <th>0</th>\n",
       "      <td>197000000001</td>\n",
       "      <td>1970</td>\n",
       "      <td>7</td>\n",
       "      <td>2</td>\n",
       "      <td>Dominican Republic</td>\n",
       "      <td>Central America &amp; Caribbean</td>\n",
       "      <td>NaN</td>\n",
       "      <td>Santo Domingo</td>\n",
       "      <td>18.456792</td>\n",
       "      <td>-69.951164</td>\n",
       "      <td>Assassination</td>\n",
       "      <td>1.0</td>\n",
       "      <td>0.0</td>\n",
       "      <td>Julio Guzman</td>\n",
       "      <td>NaN</td>\n",
       "      <td>MANO-D</td>\n",
       "      <td>Private Citizens &amp; Property</td>\n",
       "      <td>Unknown</td>\n",
       "      <td>NaN</td>\n",
       "      <td>1</td>\n",
       "    </tr>\n",
       "    <tr>\n",
       "      <th>1</th>\n",
       "      <td>197000000002</td>\n",
       "      <td>1970</td>\n",
       "      <td>0</td>\n",
       "      <td>0</td>\n",
       "      <td>Mexico</td>\n",
       "      <td>North America</td>\n",
       "      <td>Federal</td>\n",
       "      <td>Mexico city</td>\n",
       "      <td>19.371887</td>\n",
       "      <td>-99.086624</td>\n",
       "      <td>Hostage Taking (Kidnapping)</td>\n",
       "      <td>0.0</td>\n",
       "      <td>0.0</td>\n",
       "      <td>Nadine Chaval, daughter</td>\n",
       "      <td>NaN</td>\n",
       "      <td>23rd of September Communist League</td>\n",
       "      <td>Government (Diplomatic)</td>\n",
       "      <td>Unknown</td>\n",
       "      <td>NaN</td>\n",
       "      <td>1</td>\n",
       "    </tr>\n",
       "    <tr>\n",
       "      <th>2</th>\n",
       "      <td>197001000001</td>\n",
       "      <td>1970</td>\n",
       "      <td>1</td>\n",
       "      <td>0</td>\n",
       "      <td>Philippines</td>\n",
       "      <td>Southeast Asia</td>\n",
       "      <td>Tarlac</td>\n",
       "      <td>Unknown</td>\n",
       "      <td>15.478598</td>\n",
       "      <td>120.599741</td>\n",
       "      <td>Assassination</td>\n",
       "      <td>1.0</td>\n",
       "      <td>0.0</td>\n",
       "      <td>Employee</td>\n",
       "      <td>NaN</td>\n",
       "      <td>Unknown</td>\n",
       "      <td>Journalists &amp; Media</td>\n",
       "      <td>Unknown</td>\n",
       "      <td>NaN</td>\n",
       "      <td>1</td>\n",
       "    </tr>\n",
       "    <tr>\n",
       "      <th>3</th>\n",
       "      <td>197001000002</td>\n",
       "      <td>1970</td>\n",
       "      <td>1</td>\n",
       "      <td>0</td>\n",
       "      <td>Greece</td>\n",
       "      <td>Western Europe</td>\n",
       "      <td>Attica</td>\n",
       "      <td>Athens</td>\n",
       "      <td>37.997490</td>\n",
       "      <td>23.762728</td>\n",
       "      <td>Bombing/Explosion</td>\n",
       "      <td>NaN</td>\n",
       "      <td>NaN</td>\n",
       "      <td>U.S. Embassy</td>\n",
       "      <td>NaN</td>\n",
       "      <td>Unknown</td>\n",
       "      <td>Government (Diplomatic)</td>\n",
       "      <td>Explosives</td>\n",
       "      <td>NaN</td>\n",
       "      <td>1</td>\n",
       "    </tr>\n",
       "    <tr>\n",
       "      <th>4</th>\n",
       "      <td>197001000003</td>\n",
       "      <td>1970</td>\n",
       "      <td>1</td>\n",
       "      <td>0</td>\n",
       "      <td>Japan</td>\n",
       "      <td>East Asia</td>\n",
       "      <td>Fukouka</td>\n",
       "      <td>Fukouka</td>\n",
       "      <td>33.580412</td>\n",
       "      <td>130.396361</td>\n",
       "      <td>Facility/Infrastructure Attack</td>\n",
       "      <td>NaN</td>\n",
       "      <td>NaN</td>\n",
       "      <td>U.S. Consulate</td>\n",
       "      <td>NaN</td>\n",
       "      <td>Unknown</td>\n",
       "      <td>Government (Diplomatic)</td>\n",
       "      <td>Incendiary</td>\n",
       "      <td>NaN</td>\n",
       "      <td>1</td>\n",
       "    </tr>\n",
       "  </tbody>\n",
       "</table>\n",
       "</div>"
      ],
      "text/plain": [
       "             id  Year  Month  Day             Country  \\\n",
       "0  197000000001  1970      7    2  Dominican Republic   \n",
       "1  197000000002  1970      0    0              Mexico   \n",
       "2  197001000001  1970      1    0         Philippines   \n",
       "3  197001000002  1970      1    0              Greece   \n",
       "4  197001000003  1970      1    0               Japan   \n",
       "\n",
       "                        Region    State           city   latitude   longitude  \\\n",
       "0  Central America & Caribbean      NaN  Santo Domingo  18.456792  -69.951164   \n",
       "1                North America  Federal    Mexico city  19.371887  -99.086624   \n",
       "2               Southeast Asia   Tarlac        Unknown  15.478598  120.599741   \n",
       "3               Western Europe   Attica         Athens  37.997490   23.762728   \n",
       "4                    East Asia  Fukouka        Fukouka  33.580412  130.396361   \n",
       "\n",
       "                       AttackType  Killed  Wounded                   Target  \\\n",
       "0                   Assassination     1.0      0.0             Julio Guzman   \n",
       "1     Hostage Taking (Kidnapping)     0.0      0.0  Nadine Chaval, daughter   \n",
       "2                   Assassination     1.0      0.0                 Employee   \n",
       "3               Bombing/Explosion     NaN      NaN             U.S. Embassy   \n",
       "4  Facility/Infrastructure Attack     NaN      NaN           U.S. Consulate   \n",
       "\n",
       "  Summary                               Group                  Target_type  \\\n",
       "0     NaN                              MANO-D  Private Citizens & Property   \n",
       "1     NaN  23rd of September Communist League      Government (Diplomatic)   \n",
       "2     NaN                             Unknown          Journalists & Media   \n",
       "3     NaN                             Unknown      Government (Diplomatic)   \n",
       "4     NaN                             Unknown      Government (Diplomatic)   \n",
       "\n",
       "  Weapon_type Motive  success  \n",
       "0     Unknown    NaN        1  \n",
       "1     Unknown    NaN        1  \n",
       "2     Unknown    NaN        1  \n",
       "3  Explosives    NaN        1  \n",
       "4  Incendiary    NaN        1  "
      ]
     },
     "execution_count": 8,
     "metadata": {},
     "output_type": "execute_result"
    }
   ],
   "source": [
    "#As we have many columns, we take the columns that are necessary for analysis.\n",
    "df_terr = df[['id','Year','Month','Day','Country','Region','State','city','latitude','longitude','AttackType','Killed','Wounded',\n",
    "            'Target','Summary','Group','Target_type','Weapon_type','Motive','success']]\n",
    "df_terr.head()\n"
   ]
  },
  {
   "cell_type": "code",
   "execution_count": null,
   "id": "5944f0be",
   "metadata": {
    "colab": {
     "base_uri": "https://localhost:8080/"
    },
    "id": "5944f0be",
    "outputId": "2a298c9a-c22c-4e56-cd92-3872929b7c04"
   },
   "outputs": [],
   "source": [
    "df_terr.shape"
   ]
  },
  {
   "cell_type": "code",
   "execution_count": null,
   "id": "61b9cbc4",
   "metadata": {
    "colab": {
     "base_uri": "https://localhost:8080/"
    },
    "id": "61b9cbc4",
    "outputId": "62a8881b-96fd-4b48-eb20-4c7e86560293"
   },
   "outputs": [],
   "source": [
    "df_terr.info()"
   ]
  },
  {
   "cell_type": "code",
   "execution_count": null,
   "id": "8040d377",
   "metadata": {},
   "outputs": [],
   "source": [
    "# Calculate the mean, median, and standard deviation of relevant numeric columns -- on new dataset (df_terr).\n",
    "num_cols = df_terr.select_dtypes(include=[np.number])"
   ]
  },
  {
   "cell_type": "code",
   "execution_count": null,
   "id": "1312897b",
   "metadata": {
    "colab": {
     "base_uri": "https://localhost:8080/",
     "height": 300
    },
    "id": "1312897b",
    "outputId": "6e9ddf39-9af5-4d72-b966-90120aa605a1",
    "scrolled": true
   },
   "outputs": [],
   "source": [
    "\n",
    "num_summary = pd.DataFrame({\n",
    "    'Mean': numeric_cols.mean(),\n",
    "    'Median': numeric_cols.median(),\n",
    "    'Standard Deviation': numeric_cols.std()\n",
    "})\n",
    "\n",
    "numeric_view = num_summary.reset_index().rename(columns={'index': 'Column Name'})[1:].set_index('Column Name').T\n",
    "numeric_view"
   ]
  },
  {
   "cell_type": "raw",
   "id": "d69d319a",
   "metadata": {
    "id": "d69d319a"
   },
   "source": [
    "# Identify the most frequent values in categorical columns.\n",
    "cate_cols = df_terr.select_dtypes(include=['object'])"
   ]
  },
  {
   "cell_type": "code",
   "execution_count": null,
   "id": "523d63cd",
   "metadata": {
    "colab": {
     "base_uri": "https://localhost:8080/",
     "height": 394
    },
    "id": "523d63cd",
    "outputId": "62c322b7-67f8-4c8d-f96f-1dc5d5562f0c"
   },
   "outputs": [],
   "source": [
    "\n",
    "# Find the most frequent value (mode) for each categorical column\n",
    "most_freq = catego_cols.mode()\n",
    "most_freq.index =[\"most_freq_\"]\n",
    "most_freq"
   ]
  },
  {
   "cell_type": "code",
   "execution_count": null,
   "id": "27a64af2",
   "metadata": {
    "colab": {
     "base_uri": "https://localhost:8080/",
     "height": 1000
    },
    "id": "27a64af2",
    "outputId": "404fd2b5-5127-4e55-b642-77107cc9d546"
   },
   "outputs": [],
   "source": [
    "# number terrsiom attacks per year\n",
    "attacks_per_year = df_terr.groupby('Year').size().reset_index(name='number of attacks per year')\n",
    "attacks_per_year.T"
   ]
  },
  {
   "cell_type": "code",
   "execution_count": null,
   "id": "4c076e9f",
   "metadata": {
    "id": "4c076e9f"
   },
   "outputs": [],
   "source": [
    "\n",
    "# attacks_per_year.loc[attacks_per_year['number of attacks per year'].idxmax(), 'Year']"
   ]
  },
  {
   "cell_type": "code",
   "execution_count": null,
   "id": "5fad1ba9",
   "metadata": {
    "id": "a60c10e3",
    "scrolled": false
   },
   "outputs": [],
   "source": [
    "# sns.lineplot(x='Year', y='number of attacks per year', data=attacks_per_year, color='b',marker=\"o\")\n",
    "\n",
    "plt.style.use('ggplot')\n",
    "plt.figure(figsize=(12, 8))\n",
    "\n",
    "# Create the line plot\n",
    "sns.lineplot(\n",
    "    x='Year',y='number of attacks per year',data=attacks_per_year,color='b',marker='o',\n",
    "#     linestyle=':',  # Line style\n",
    "    linewidth=2, markersize=8,\n",
    "    markerfacecolor='red',  # Marker fill color\n",
    "    markeredgecolor='black'  # Marker edge color\n",
    ")\n",
    "\n",
    "# Add gridlines for better readability\n",
    "plt.grid(True, linestyle='--', alpha=0.6)\n",
    "\n",
    "# Add labels and title\n",
    "plt.xlabel('Year', fontsize=14, fontweight='bold')\n",
    "plt.ylabel('Number of Attacks', fontsize=14, fontweight='bold')\n",
    "plt.title(\"Terrorism Attacks Trends from 1970 to 2017\", fontsize=16, fontweight='bold')\n",
    "\n",
    "# Add annotations or highlights (optional)\n",
    "plt.annotate('Peak', xy=(attacks_per_year.loc[attacks_per_year['number of attacks per year'].idxmax(), 'Year'],attacks_per_year['number of attacks per year'].max()),\n",
    "             xytext=(2012, attacks_per_year['number of attacks per year'].max()+1500),\n",
    "             arrowprops=dict(facecolor='black'))\n",
    "\n",
    "# Display the plot\n",
    "plt.show()"
   ]
  },
  {
   "cell_type": "markdown",
   "id": "af4a5394",
   "metadata": {},
   "source": [
    "## > We conclude from here that most terrorist attacks are concentrated in` 2014`. \n",
    "+ Here are the five largest attacks over the years."
   ]
  },
  {
   "cell_type": "code",
   "execution_count": null,
   "id": "090140d5",
   "metadata": {
    "scrolled": false
   },
   "outputs": [],
   "source": [
    "attacks_per_year.nlargest(5,'number of attacks per year')"
   ]
  },
  {
   "cell_type": "raw",
   "id": "4c6a0253",
   "metadata": {},
   "source": []
  },
  {
   "cell_type": "markdown",
   "id": "4c16ab7d",
   "metadata": {},
   "source": [
    "### Plot showing Terrorist Activities Each Year"
   ]
  },
  {
   "cell_type": "code",
   "execution_count": null,
   "id": "b1be5914",
   "metadata": {
    "id": "ab498c85"
   },
   "outputs": [],
   "source": [
    "# Number Of Terrorist Activities Each Year\n",
    "plt.style.use('fivethirtyeight')\n",
    "plt.subplots(figsize=(15,6))\n",
    "sns.countplot(x='Year',data=df_terr,palette='rocket',edgecolor=sns.color_palette('magma',5))\n",
    "\n",
    "\n",
    "plt.xlabel('Attack Year', fontsize=14)\n",
    "plt.ylabel('Number of Attacks each year', fontsize=14)\n",
    "plt.xticks(rotation=45,fontsize=10)\n",
    "plt.yticks(fontsize=10)\n",
    "\n",
    "plt.title('Number Of Terrorist Activities Each Year',fontsize=15, fontweight='bold')\n",
    "# plt.tight_layout()\n",
    "\n",
    "plt.show()"
   ]
  },
  {
   "cell_type": "markdown",
   "id": "e15b3937",
   "metadata": {},
   "source": [
    "---\n",
    "# Total active terrorist attacks on region."
   ]
  },
  {
   "cell_type": "code",
   "execution_count": null,
   "id": "6767087d",
   "metadata": {
    "colab": {
     "base_uri": "https://localhost:8080/",
     "height": 426
    },
    "id": "6767087d",
    "outputId": "32eb893e-5f0b-46d5-ffe1-c60854c5157e"
   },
   "outputs": [],
   "source": [
    "# numbers terrrosim attacks on region\n",
    "attacks_per_region = df_terr.groupby('Region').size().reset_index(name='Total_attacks_region')\n",
    "attacks_per_region.sort_values(by='Total_attacks_region',ascending=False)"
   ]
  },
  {
   "cell_type": "code",
   "execution_count": null,
   "id": "51965cab",
   "metadata": {
    "id": "2be39810"
   },
   "outputs": [],
   "source": [
    "plt.style.use('ggplot')\n",
    "plt.subplots(figsize=(15, 6))\n",
    "sns.barplot(x='Region',y='Total_attacks_region' ,\n",
    "            data=attacks_per_region,palette='hot',\n",
    "            order=df_terr['Region'].value_counts().index,edgecolor=sns.color_palette('rocket',5))\n",
    "\n",
    "# Customize y-axis\n",
    "plt.yticks(fontsize=12)\n",
    "\n",
    "# Add labels and title\n",
    "plt.xlabel('Region', fontsize=14,fontweight='bold')\n",
    "plt.ylabel('Total Attacks', fontsize=14,fontweight='bold')\n",
    "plt.title('Number Of Terrorist Activities by Region', fontsize=15, fontweight='bold')\n",
    "\n",
    "plt.xticks(rotation=45,fontsize=12,ha='right')\n",
    "plt.yticks(fontsize=12)\n",
    "\n",
    "\n",
    "# Adjust layout to prevent overlapping\n",
    "# plt.tight_layout()\n",
    "\n",
    "# Show the plot\n",
    "plt.show()"
   ]
  },
  {
   "cell_type": "markdown",
   "id": "0d2b2bd4",
   "metadata": {},
   "source": [
    "---\n",
    "+ `Middle East and North Africa` are the most terrorism prone regions followed by `South Asia`. `The Australian` Region have experienced very few terrorist events.\n",
    "Collectively we can say that The African and Asian Continent experience the highest terrorist attacks.\n",
    "---"
   ]
  },
  {
   "cell_type": "markdown",
   "id": "12e21737",
   "metadata": {},
   "source": [
    "## Sheet showing the number of terrorism attacks per `region` each `year`."
   ]
  },
  {
   "cell_type": "code",
   "execution_count": null,
   "id": "fbfac80a",
   "metadata": {
    "colab": {
     "base_uri": "https://localhost:8080/",
     "height": 272
    },
    "id": "fbfac80a",
    "outputId": "c4c796ed-e358-4027-ba9b-74fa637ce59a"
   },
   "outputs": [],
   "source": [
    "# sheet showing number terrosim attacks on region per year . \n",
    "\n",
    "attc_region_per_year=pd.crosstab(df_terr.Year,df_terr.Region)\n",
    "\n",
    "attc_region_per_year['[sum_attacks on region per year]'] = attc_region_per_year.sum(axis=1)\n",
    "attc_region_per_year.loc['[Total_attac_region]']= attc_region_per_year.sum()\n",
    "attc_region_per_year.T"
   ]
  },
  {
   "cell_type": "markdown",
   "id": "79aad396",
   "metadata": {},
   "source": [
    "---\n",
    "Total terrorist strikes per `country`\n",
    "---"
   ]
  },
  {
   "cell_type": "code",
   "execution_count": null,
   "id": "fef756d0",
   "metadata": {
    "colab": {
     "base_uri": "https://localhost:8080/",
     "height": 219
    },
    "id": "fef756d0",
    "outputId": "46cc14d5-e76e-478f-af87-dc48624b9de3",
    "scrolled": false
   },
   "outputs": [],
   "source": [
    "# total terssiom attacks on country each year.\n",
    "attacks_country = df_terr.Country.value_counts().to_frame().reset_index()\n",
    "attacks_country.columns=['Country','total_attacks per country']\n",
    "attacks_country.T"
   ]
  },
  {
   "cell_type": "code",
   "execution_count": null,
   "id": "e1cb8870",
   "metadata": {
    "id": "e1cb8870"
   },
   "outputs": [],
   "source": [
    "# df_terr.groupby('Country').size()\n",
    "# attacks_country = df_terr.groupby('Country').size().reset_index()\n",
    "# attacks_country"
   ]
  },
  {
   "cell_type": "code",
   "execution_count": null,
   "id": "6eb35555",
   "metadata": {
    "id": "ea54bee4"
   },
   "outputs": [],
   "source": [
    "# plt.style.use('fivethirtyeight')\n",
    "plt.style.use('ggplot')\n",
    "\n",
    "plt.figure(figsize=(15, 6))\n",
    "\n",
    "# Assuming `df_terr` is your DataFrame with a 'Country' column\n",
    "top_countries = df_terr['Country'].value_counts().nlargest(15)\n",
    "sns.barplot(y=top_countries.index, x=top_countries.values, palette='YlOrRd_r',orient=\"h\",edgecolor=sns.color_palette('gist_heat',4))\n",
    "\n",
    "plt.title('Top 15 Countries Affected by Terrorist Activities', fontsize=15, fontweight='bold')\n",
    "plt.ylabel('Countries', fontsize=17,fontweight='semibold')\n",
    "plt.xlabel('Count', fontsize=14,fontweight='semibold')\n",
    "\n",
    "plt.xticks(rotation=45, fontsize=13)\n",
    "plt.yticks(fontsize=13)\n",
    "\n",
    "plt.tight_layout()\n",
    "plt.show()\n"
   ]
  },
  {
   "cell_type": "markdown",
   "id": "70bb9fab",
   "metadata": {},
   "source": [
    "---\n",
    "From the graph we can see The Most `5 Targered` Affected Country with Terrorism Attacks are:\n",
    "1. Iraq\n",
    "2. Pakistan\t\n",
    "3. Afghanistan\t\n",
    "4. India\n",
    "5. Colombia\t\n",
    "* `iraq` has witnessed a very large number of terrorist activities followed by Pakistan,Afghanistan..etc .\n",
    "One thing to note is the countries with highest attacks, are mostly densely populated countries, thus it will eventually claim  many lives.\n",
    "---"
   ]
  },
  {
   "cell_type": "markdown",
   "id": "c1f6f84c",
   "metadata": {},
   "source": [
    "## sheet showing the number of terrorism attacks per `country` each `year`."
   ]
  },
  {
   "cell_type": "code",
   "execution_count": null,
   "id": "615281b9",
   "metadata": {
    "colab": {
     "base_uri": "https://localhost:8080/",
     "height": 292
    },
    "id": "615281b9",
    "outputId": "d66ac6f3-47bf-4273-90a7-8efd05e3080a",
    "scrolled": false
   },
   "outputs": [],
   "source": [
    "attac_country_per_year = pd.crosstab(df_terr.Country,df_terr.Year)\n",
    "attac_country_per_year[\"[sum_per_year]\"] = attac_country_per_year.sum(axis=1)\n",
    "attac_country_per_year.loc[\"[sum_attacks on country per year]\"] =attac_country_per_year.sum()\n",
    "attac_country_per_year.T"
   ]
  },
  {
   "cell_type": "markdown",
   "id": "43ac2a57",
   "metadata": {},
   "source": [
    "---\n",
    "Total Cacasualties & Killed & Wounded each Country under Region\n",
    "---"
   ]
  },
  {
   "cell_type": "code",
   "execution_count": null,
   "id": "5260a3e6",
   "metadata": {},
   "outputs": [],
   "source": [
    "# sheet view total cacasualties & killed & wounded each country under region\n",
    "results_terr =df_terr[['Region','Country','Killed','Wounded','casualties']]\n",
    "results_terr = results_terr.groupby(['Region','Country']).sum().sort_values(by='casualties',ascending=False).reset_index()\n",
    "results_terr.T"
   ]
  },
  {
   "cell_type": "code",
   "execution_count": null,
   "id": "6286e505",
   "metadata": {},
   "outputs": [],
   "source": [
    "# killed per year\n",
    "k = df_terr[[\"Year\", \"Killed\"]].groupby(\"Year\").sum()\n",
    "# wounded per year\n",
    "w = df_terr[[\"Year\", \"Wounded\"]].groupby(\"Year\").sum()\n",
    "print(w.head())\n",
    "print(k.head())"
   ]
  },
  {
   "cell_type": "code",
   "execution_count": null,
   "id": "58fdca1c",
   "metadata": {},
   "outputs": [],
   "source": [
    "merged_k_w = pd.merge(w, k, on=\"Year\")\n",
    "merged_k_w.reset_index(inplace=True)\n",
    "merged_k_w.head(10)"
   ]
  },
  {
   "cell_type": "code",
   "execution_count": null,
   "id": "30156164",
   "metadata": {},
   "outputs": [],
   "source": [
    "# Apply style\n",
    "plt.style.use('ggplot')\n",
    "\n",
    "# Create a figure and two subplots\n",
    "fig, (ax0, ax1) = plt.subplots(2, 1, figsize=(15, 10))\n",
    "\n",
    "# Plot 'Killed' data\n",
    "k.plot(kind=\"bar\", color='#1f77b4', ax=ax0, legend=True)\n",
    "ax0.set_title(\"People Killed in Each Year\", fontsize=16)\n",
    "ax0.set_xlabel(\"Years\", fontsize=12)\n",
    "ax0.set_ylabel(\"Number of People Killed\", fontsize=12)\n",
    "\n",
    "ax0.set_xticklabels(k.index, rotation=45, fontsize=10)\n",
    "ax0.grid(True, which='both', linestyle='--', linewidth=0.7, alpha=0.7)\n",
    "ax0.tick_params(axis='both', which='major', labelsize=10)\n",
    "ax0.legend([\"Killed\"], loc='upper left', bbox_to_anchor=(0, 1))\n",
    "\n",
    "# Add data labels\n",
    "for i in ax0.containers:\n",
    "    ax0.bar_label(i, label_type='edge', fontsize=7)\n",
    "\n",
    "# Plot 'Wounded' data\n",
    "w.plot(kind=\"bar\", color='#ff7f0e', ax=ax1, legend=True)\n",
    "ax1.set_title(\"People Wounded in Each Year\", fontsize=16)\n",
    "ax1.set_xlabel(\"Years\", fontsize=12)\n",
    "ax1.set_ylabel(\"Number of People Wounded\", fontsize=12)\n",
    "\n",
    "ax1.set_xticklabels(w.index, rotation=45, fontsize=10)\n",
    "ax1.grid(True, which='both', linestyle='--', linewidth=0.7, alpha=0.7)\n",
    "ax1.tick_params(axis='both', which='major', labelsize=10)\n",
    "ax1.legend([\"Wounded\"], loc='upper left', bbox_to_anchor=(0, 1))\n",
    "\n",
    "# Add data labels\n",
    "for i in ax1.containers:\n",
    "    ax1.bar_label(i, label_type='edge', fontsize=7)\n",
    "\n",
    "# Adjust layout for better visualization\n",
    "plt.tight_layout()\n",
    "\n",
    "# Show the plot\n",
    "plt.show()"
   ]
  },
  {
   "cell_type": "markdown",
   "id": "572d56c1",
   "metadata": {},
   "source": [
    "---\n",
    "+ Looking at these annual charts & sheet , we can say that the largest year was killing in `2014`, and then it began a gradual decline to `2017`"
   ]
  },
  {
   "cell_type": "code",
   "execution_count": null,
   "id": "a648d204",
   "metadata": {
    "scrolled": false
   },
   "outputs": [],
   "source": [
    "# largest 10 years people killed \n",
    "merged_k_w.nlargest(10,['Killed']).drop('Wounded',axis=1)"
   ]
  },
  {
   "cell_type": "markdown",
   "id": "f97097f6",
   "metadata": {},
   "source": [
    "---\n",
    "+ Regarding the wounded we can say that the largest year was killing in `2015`and then it began a gradual decline to `2017`"
   ]
  },
  {
   "cell_type": "code",
   "execution_count": null,
   "id": "375ccf13",
   "metadata": {},
   "outputs": [],
   "source": [
    "# largest 10 years people Wounded \n",
    "merged_k_w.nlargest(10,['Wounded']).drop('Killed',axis=1)"
   ]
  },
  {
   "cell_type": "markdown",
   "id": "ea2ab8b8",
   "metadata": {},
   "source": [
    "---"
   ]
  },
  {
   "cell_type": "markdown",
   "id": "a2de95ef",
   "metadata": {},
   "source": [
    "+ success - Success of a terrorist strike\n",
    "> * 0 : Represents failure to perform the operation.\n",
    "> * 1: Represents success to perform the operation."
   ]
  },
  {
   "cell_type": "code",
   "execution_count": null,
   "id": "5e7181ea",
   "metadata": {},
   "outputs": [],
   "source": [
    "# sheet demonstrate number of terrorist attscks each countery & extent of the success and failure of these strikes and thier impact on people\n",
    "# Aggregate the data\n",
    "coun_stats = df_terr.groupby(['Region','Country', 'success']).agg({\n",
    "    'Killed': 'sum',\n",
    "    'Wounded': 'sum',\n",
    "    'Country': 'count'  # Counts the number of occurrences for each (Country, success) pair\n",
    "}).rename(columns={'Country': 'Num_Attacks'}).reset_index()\n",
    "\n",
    "# Melt the DataFrame to combine 'Killed' and 'Wounded' into a single 'Types' column\n",
    "coun_stats_melted = pd.melt(coun_stats, id_vars=['Region','Country', 'Num_Attacks', 'success'], value_vars=['Killed', 'Wounded'], var_name='Types', value_name='Counts_Types')\n",
    "\n",
    "# Display the melted DataFrame\n",
    "coun_stats_melted.sort_values(by=['Region', 'Country', 'Types']).reset_index(drop=True).sort_values(by='Counts_Types',ascending=False).reset_index(drop=True)\n"
   ]
  },
  {
   "cell_type": "code",
   "execution_count": null,
   "id": "9031a00f",
   "metadata": {},
   "outputs": [],
   "source": []
  },
  {
   "cell_type": "code",
   "execution_count": null,
   "id": "333731b3",
   "metadata": {},
   "outputs": [],
   "source": [
    "# Group by Country and Year and sum the number of killings\n",
    "country_killings = df_terr.groupby(['Country','success'])[['Killed','Wounded']].sum().reset_index()\n",
    "\n",
    "# Sort the data by the number of killings in descending order\n",
    "# top_countries=country_killings.nlargest(10,'Killed')\n",
    "# top_countries\n",
    "country_killings"
   ]
  },
  {
   "cell_type": "code",
   "execution_count": null,
   "id": "a530481a",
   "metadata": {},
   "outputs": [],
   "source": [
    "# Group by Country and Year and sum the number of killings\n",
    "country_killings = df_terr.groupby(['Country','success'])['Killed'].sum().reset_index()\n",
    "\n",
    "# Sort the data by the number of killings in descending order\n",
    "# top_countries=country_killings.nlargest(10,'Killed')\n",
    "# top_countries\n",
    "country_killings"
   ]
  },
  {
   "cell_type": "code",
   "execution_count": null,
   "id": "2497c874",
   "metadata": {},
   "outputs": [],
   "source": [
    "plt.style.use('default')\n",
    "# Get the top 15 Region by number of attacks\n",
    "reg_terror = df_terr['Region'].value_counts().to_frame()\n",
    "reg_terror.columns = ['Attacks']\n",
    "\n",
    "# Sum the number of people killed per Region\n",
    "reg_kill = df_terr.groupby('Region')['Killed'].sum().to_frame()\n",
    "\n",
    "# Sum the number of people wounded per Region\n",
    "reg_wound = df_terr.groupby('Region')['Wounded'].sum().to_frame()\n",
    "\n",
    "# Merge the information\n",
    "reg_stats = reg_terror.merge(reg_kill, left_index=True, right_index=True, how='left')\n",
    "reg_stats = reg_stats.merge(reg_wound, left_index=True, right_index=True, how='left')\n",
    "\n",
    "# Use seaborn color palette\n",
    "palette = sns.color_palette(\"rocket\", 3)  # Choose a palette with 3 colors\n",
    "\n",
    "# Plot the data\n",
    "fig, ax = plt.subplots(figsize=(18, 6))\n",
    "\n",
    "reg_stats.plot(kind='bar', width=0.9, ax=ax, color=palette)\n",
    "\n",
    "ax.set_title('Top Region Number of Attacks, People Killed, and Wounded',fontsize=18)\n",
    "ax.set_xlabel('Region')\n",
    "ax.set_ylabel('Count')\n",
    "# ax.legend( labels=['Total Attacks', 'No.Killed', 'No.Wounded'])\n",
    "ax.legend(labels=['Total Attacks', 'No. Killed', 'No. Wounded'], loc='upper center', bbox_to_anchor=(0.5, .99), ncol=3, fontsize=12)\n",
    "\n",
    "\n",
    "plt.xticks(rotation=45,ha='right',fontsize=12)\n",
    "plt.grid(axis='y', linestyle='--', linewidth=0.7, alpha=0.7)\n",
    "# plt.tight_layout()\n",
    "plt.show()\n",
    "\n"
   ]
  },
  {
   "cell_type": "markdown",
   "id": "38180fd8",
   "metadata": {},
   "source": [
    "---\n",
    "+ The `Middle East and North Africa` region is considered the region most vulnerable to terrorism, followed by `South Asia`, which has a large population density, which will lead to large numbers of deaths and injuries. Although the `Australian region` has witnessed only a very small number of terrorist incidents, there have been deaths and injuries there... We can say, in one way or another, that the continents of `Africa and Asia` are witnessing the highest terrorist attacks."
   ]
  },
  {
   "cell_type": "code",
   "execution_count": null,
   "id": "4fb38e07",
   "metadata": {},
   "outputs": [],
   "source": [
    "# Get the top 15 countries by number of attacks\n",
    "coun_terror = df_terr['Country'].value_counts()[:20].to_frame()\n",
    "coun_terror.columns = ['Attacks']\n",
    "\n",
    "# Sum the number of people killed per country\n",
    "coun_kill = df_terr.groupby('Country')['Killed'].sum().to_frame()\n",
    "\n",
    "# Sum the number of people wounded per country\n",
    "coun_wound = df_terr.groupby('Country')['Wounded'].sum().to_frame()\n",
    "\n",
    "# Merge the information\n",
    "coun_stats = coun_terror.merge(coun_kill, left_index=True, right_index=True, how='left')\n",
    "coun_stats = coun_stats.merge(coun_wound, left_index=True, right_index=True, how='left')\n",
    "\n",
    "# Use seaborn color palette\n",
    "palette = sns.color_palette(\"rocket\", 4)  # Choose a palette with 3 colors\n",
    "\n",
    "# Plot the data\n",
    "fig, ax = plt.subplots(figsize=(18, 6))\n",
    "\n",
    "coun_stats.plot(kind='bar', width=0.9, ax=ax, color=palette)\n",
    "\n",
    "ax.set_title('Top 20 Countries by Number of Attacks, People Killed, and Wounded',fontsize=18)\n",
    "ax.set_xlabel('Country')\n",
    "ax.set_ylabel('Count')\n",
    "# ax.legend( labels=['Total Attacks', 'No.Killed', 'No.Wounded'])\n",
    "ax.legend(labels=['Total Attacks', 'No. Killed', 'No. Wounded'], loc='upper center', bbox_to_anchor=(0.5, .99), ncol=3, fontsize=12)\n",
    "\n",
    "\n",
    "plt.xticks(rotation=45,ha='right',fontsize=12)\n",
    "plt.grid(axis='y', linestyle='--', linewidth=0.7, alpha=0.7)\n",
    "# plt.tight_layout()\n",
    "plt.show()\n",
    "\n"
   ]
  },
  {
   "cell_type": "code",
   "execution_count": null,
   "id": "bc1f5738",
   "metadata": {},
   "outputs": [],
   "source": [
    "# its' okay\n",
    "import plotly.express as px\n",
    "\n",
    "# Group by Country and Year and sum the number of killings\n",
    "country_killings = df_terr.groupby(['Country'])['Killed'].sum().reset_index()\n",
    "\n",
    "# Sort the data by the number of killings in descending order\n",
    "top_countries=country_killings.nlargest(150,'Killed')\n",
    "top_countries\n",
    "\n",
    "# Create a treemap with Plotly\n",
    "fig = px.treemap(\n",
    "    top_countries,\n",
    "    path=['Country'],\n",
    "    values='Killed',\n",
    "    color='Killed',\n",
    "    color_continuous_scale='Reds',\n",
    "    title='Killings in Global Terrorism (Top 150 Countries)',\n",
    "    labels={'Killed': 'Number of Killings'}\n",
    ")\n",
    "\n",
    "# Customize layout for better readability\n",
    "fig.update_layout(\n",
    "    title={\n",
    "        'text': 'Killings in Global Terrorism (Top 150 Countries)',\n",
    "        'font_size': 24,\n",
    "        'font_family': 'Arial black',\n",
    "        'x': 0.5,\n",
    "        # 'y': 1,\n",
    "        'xanchor': 'center'\n",
    "    },\n",
    "    margin=dict(t=60, l=10, r=10, b=20),\n",
    "    coloraxis_colorbar=dict(\n",
    "    #     title='Number of Killings',\n",
    "        # tickvals=[0, top_countries['Killed'].max()],\n",
    "        # ticktext=['Low', 'High'],\n",
    "        # tickfont=dict(size=14, color='black', family='Arial',),\n",
    "        title_font=dict(size=12, color='darkred'),\n",
    "        lenmode='pixels',\n",
    "    #     # len=3000\n",
    "    ),\n",
    "    # uniformtext=dict(minsize=12, mode='hide'),  # Adjust text size and hiding mode\n",
    "    showlegend=True  # Hide legend if not needed\n",
    ")\n",
    "\n",
    "# # Customize text for better readability\n",
    "fig.update_traces(\n",
    "    texttemplate='%{label}<br>%{value:,}',  # Format text for better readability\n",
    "    textfont=dict(size=17, color='black', family='Arial black'),  # Customize text font and color\n",
    "    marker_line=dict(color='darkcyan', width=1),  # Add borders around the blocks\n",
    "    hovertemplate='<b>%{label}</b><br>Number of Killings: %{value:,}<extra></extra>',  # Improve hover text\n",
    "    textposition='middle center', # Place text in the middle of the blocks\n",
    "\n",
    ")\n",
    "\n",
    "# # Add annotations to highlight specific data points (optional)\n",
    "# annotations = [\n",
    "#     dict(\n",
    "#         x=1, y=1,\n",
    "#         text='',\n",
    "#         showarrow=False,\n",
    "#         font=dict(size=20, color='white')\n",
    "#     )\n",
    "# ]\n",
    "# fig.update_layout(annotations=annotations)\n",
    "\n",
    "# Show plot\n",
    "fig.show()\n"
   ]
  },
  {
   "cell_type": "markdown",
   "id": "3881e3a9",
   "metadata": {},
   "source": [
    "---"
   ]
  },
  {
   "cell_type": "code",
   "execution_count": null,
   "id": "1091687d",
   "metadata": {},
   "outputs": [],
   "source": [
    "import plotly.express as px\n",
    "# Group by Country and Year and sum the number of killings\n",
    "country_year_killings = df_terr.groupby(['Country', 'Year'])['Killed'].sum().reset_index()\n",
    "\n",
    "# Sort the data by the number of killings in descending order\n",
    "top_countries_year=country_year_killings.nlargest(50,'Killed')\n",
    "top_countries_year\n",
    "# Create a treemap with Plotly\n",
    "fig = px.treemap(\n",
    "    top_countries_year,\n",
    "    path=['Country', 'Year'],\n",
    "    values='Killed',\n",
    "    color='Killed',\n",
    "    color_continuous_scale='Reds',\n",
    "    title='Killings in Global Terrorism on Years (Top 50 Years under Countries)',\n",
    "    labels={'Killed': 'Number of Killings'}\n",
    ")\n",
    "\n",
    "# Customize layout for better readability\n",
    "fig.update_layout(\n",
    "    title={\n",
    "        # 'text': title,\n",
    "        'font_size': 24,\n",
    "        'font_family': 'Arial Black',\n",
    "        'x': 0.5,\n",
    "        'xanchor': 'center'\n",
    "    },\n",
    "    margin=dict(t=60, l=10, r=10, b=20),\n",
    "    coloraxis_colorbar=dict(\n",
    "    #     title='Number of Killings',\n",
    "        tickvals=[0, top_countries_year['Killed'].max()],\n",
    "        ticktext=['Low', 'High'],\n",
    "    #     tickfont=dict(size=14, color='black', family='Arial'),\n",
    "    #     title_font=dict(size=12, color='darkred'),\n",
    "    #     lenmode='pixels',\n",
    "    ),\n",
    "    showlegend=True\n",
    ")\n",
    "\n",
    "# Customize text for better readability\n",
    "fig.update_traces(\n",
    "    texttemplate='Year:%{label}<br>Number of Killings: <br>%{value:,}',  # Format text for better readability\n",
    "    textfont=dict(size=17, color='black', family='Arial Black'),  # Customize text font and color\n",
    "    marker_line=dict(color='darkcyan', width=1),  # Add borders around the blocks\n",
    "    hovertemplate='Year:%{label}</b><br>Number of Killings: %{value:,}<extra></extra>',  # Improve hover text\n",
    "    textposition='middle center',  # Place text in the middle of the blocks\n",
    ")\n",
    "\n",
    "# Add annotations to highlight specific data points (optional)\n",
    "annotations = [\n",
    "    dict(\n",
    "        x=0.5, y=1.05,\n",
    "        text=' ',\n",
    "        showarrow=False,\n",
    "        font=dict(size=14, color='grey'),\n",
    "        xref='paper',\n",
    "        yref='paper'\n",
    "    )\n",
    "]\n",
    "fig.update_layout(annotations=annotations)\n",
    "\n",
    "# Show plot\n",
    "fig.show()\n"
   ]
  },
  {
   "cell_type": "markdown",
   "id": "dfc708e6",
   "metadata": {},
   "source": [
    "---"
   ]
  },
  {
   "cell_type": "markdown",
   "id": "85909bfb",
   "metadata": {},
   "source": [
    "## The type of attack and its impact on the number of casualties killed and wounded."
   ]
  },
  {
   "cell_type": "code",
   "execution_count": null,
   "id": "579c990c",
   "metadata": {},
   "outputs": [],
   "source": [
    "# type of attack has an effect on the number of people killed and wounded. \n",
    "killed_wounded_attack_type = df_terr.groupby('AttackType').agg({'AttackType':'count','Killed': 'sum', 'Wounded': 'sum',}).rename(columns={'AttackType':'Num_Attacks'}).reset_index()\n",
    "killed_wounded_attack_type.set_index('AttackType',inplace=True)\n",
    "killed_wounded_attack_type = killed_wounded_attack_type.reset_index().sort_values(by='Num_Attacks',ascending=False)\n",
    "killed_wounded_attack_type\n"
   ]
  },
  {
   "cell_type": "markdown",
   "id": "df2c4698",
   "metadata": {},
   "source": [
    "---"
   ]
  },
  {
   "cell_type": "code",
   "execution_count": null,
   "id": "ed45ba9f",
   "metadata": {},
   "outputs": [],
   "source": [
    "# Set the figure size\n",
    "plt.figure(figsize=(15, 6))\n",
    "\n",
    "# Create a count plot with Seaborn\n",
    "sns.countplot(\n",
    "    x='AttackType',\n",
    "    data=df_terr,\n",
    "    palette='Reds_r',\n",
    "    order=df_terr['AttackType'].value_counts().index\n",
    ")\n",
    "\n",
    "# Rotate x-axis labels for better readability\n",
    "plt.xticks(rotation=55,ha='right')\n",
    "\n",
    "# Add a title to the plot\n",
    "plt.title('The Most Attacking Methods by Terrorists', fontsize=16)\n",
    "\n",
    "# Show the plot\n",
    "# plt.tight_layout()  # Adjust layout to fit labels and title\n",
    "plt.show()"
   ]
  },
  {
   "cell_type": "code",
   "execution_count": null,
   "id": "45abf9ae",
   "metadata": {},
   "outputs": [],
   "source": [
    "# to get on overall casualties killing and wounding.\n",
    "df_terr['casualties'] = df_terr['Killed'].fillna(0) + df_terr['Wounded'].fillna(0)"
   ]
  },
  {
   "cell_type": "code",
   "execution_count": null,
   "id": "b30c1226",
   "metadata": {
    "colab": {
     "base_uri": "https://localhost:8080/",
     "height": 886
    },
    "id": "b30c1226",
    "outputId": "e90eff63-1ff1-4d5e-a6ba-51b9e6eb9512",
    "scrolled": false
   },
   "outputs": [],
   "source": [
    "# df_terr['casualties'] = df_terr['Killed'].fillna(0) + df_terr['Wounded'].fillna(0)\n",
    "\n",
    "# Set the style of the visualization\n",
    "plt.style.use('ggplot')\n",
    "\n",
    "# Create the scatter plot\n",
    "plt.figure(figsize=(14, 8))\n",
    "scatter_plot = sns.scatterplot(data=df_terr, x='AttackType', y='casualties', hue='AttackType', palette='Set2', s=150, alpha=0.8, edgecolor=\"w\")\n",
    "\n",
    "# Customize the plot\n",
    "scatter_plot.set_title('Relationship Between Number of Casualties and Type of Attack', fontsize=16, fontweight='bold')\n",
    "scatter_plot.set_xlabel('Type of Attack', fontsize=14)\n",
    "scatter_plot.set_ylabel('Number of Casualties', fontsize=14)\n",
    "\n",
    "plt.xticks(rotation=45, ha='right', fontsize=13)\n",
    "\n",
    "scatter_plot.legend(title='Attack Type', loc='upper left', bbox_to_anchor=(1, 1), ncol=1, fancybox=True, shadow=True)\n",
    "\n",
    "# Adjust x-axis labels for better readability\n",
    "# scatter_plot.set_xticklabels(scatter_plot.get_xticklabels(), rotation=45, horizontalalignment='right', fontsize=12)\n",
    "\n",
    "# Show the plot\n",
    "# plt.tight_layout()\n",
    "plt.show()"
   ]
  },
  {
   "cell_type": "markdown",
   "id": "93e9942d",
   "metadata": {
    "id": "cb030ddb"
   },
   "source": [
    "---"
   ]
  },
  {
   "cell_type": "code",
   "execution_count": null,
   "id": "f11640b9",
   "metadata": {},
   "outputs": [],
   "source": [
    "# Use seaborn color palette\n",
    "palette = sns.color_palette(\"gist_heat\",3 )  # Choose a palette with 3 colors\n",
    "\n",
    "# Plot the data\n",
    "fig, ax = plt.subplots(figsize=(18, 6))\n",
    "killed_wounded_attack_type.plot(kind='bar', width=0.9, ax=ax, color=palette)\n",
    "\n",
    "ax.set_title('Number of Attacks, People Killed, and Wounded by Attack Type', fontsize=16)\n",
    "ax.set_xlabel('Attack Type', fontsize=14)\n",
    "ax.set_ylabel('Count', fontsize=14)\n",
    "\n",
    "# Set x-axis ticks and labels\n",
    "ax.set_xticklabels(killed_wounded_attack_type.index, rotation=45, ha='right')\n",
    "\n",
    "# Add legend\n",
    "legend = ax.legend(loc='upper center', bbox_to_anchor=(0.85, .97), fontsize=11, ncol=3, frameon=True)\n",
    "frame = legend.get_frame()\n",
    "frame.set_facecolor('lightgrey')  # Set the background color of the legend box\n",
    "frame.set_edgecolor('black')\n",
    "\n",
    "# Add gridlines for better readability\n",
    "ax.grid(axis='y', linestyle='--', linewidth=0.7, alpha=0.7)\n",
    "\n",
    "# plt.tight_layout()\n",
    "plt.show()"
   ]
  },
  {
   "cell_type": "markdown",
   "id": "1ab8b483",
   "metadata": {},
   "source": [
    "---\n",
    "## Now let us check out which Terrorist organizations have carried out their operations in each country.\n",
    "\n",
    "---"
   ]
  },
  {
   "cell_type": "code",
   "execution_count": 16,
   "id": "0a78124e",
   "metadata": {},
   "outputs": [
    {
     "data": {
      "text/html": [
       "<div>\n",
       "<style scoped>\n",
       "    .dataframe tbody tr th:only-of-type {\n",
       "        vertical-align: middle;\n",
       "    }\n",
       "\n",
       "    .dataframe tbody tr th {\n",
       "        vertical-align: top;\n",
       "    }\n",
       "\n",
       "    .dataframe thead th {\n",
       "        text-align: right;\n",
       "    }\n",
       "</style>\n",
       "<table border=\"1\" class=\"dataframe\">\n",
       "  <thead>\n",
       "    <tr style=\"text-align: right;\">\n",
       "      <th></th>\n",
       "      <th>Group</th>\n",
       "      <th>count</th>\n",
       "    </tr>\n",
       "  </thead>\n",
       "  <tbody>\n",
       "    <tr>\n",
       "      <th>0</th>\n",
       "      <td>Unknown</td>\n",
       "      <td>45.561971</td>\n",
       "    </tr>\n",
       "    <tr>\n",
       "      <th>1</th>\n",
       "      <td>Taliban</td>\n",
       "      <td>4.115779</td>\n",
       "    </tr>\n",
       "    <tr>\n",
       "      <th>2</th>\n",
       "      <td>Islamic State of Iraq and the Levant (ISIL)</td>\n",
       "      <td>3.089311</td>\n",
       "    </tr>\n",
       "    <tr>\n",
       "      <th>3</th>\n",
       "      <td>Shining Path (SL)</td>\n",
       "      <td>2.507004</td>\n",
       "    </tr>\n",
       "    <tr>\n",
       "      <th>4</th>\n",
       "      <td>Farabundo Marti National Liberation Front (FMLN)</td>\n",
       "      <td>1.844340</td>\n",
       "    </tr>\n",
       "    <tr>\n",
       "      <th>...</th>\n",
       "      <td>...</td>\n",
       "      <td>...</td>\n",
       "    </tr>\n",
       "    <tr>\n",
       "      <th>3532</th>\n",
       "      <td>Jaish al-Muhajireen wal-Ansar (Muhajireen Army)</td>\n",
       "      <td>0.000550</td>\n",
       "    </tr>\n",
       "    <tr>\n",
       "      <th>3533</th>\n",
       "      <td>Jaish al-Islam (Libya)</td>\n",
       "      <td>0.000550</td>\n",
       "    </tr>\n",
       "    <tr>\n",
       "      <th>3534</th>\n",
       "      <td>Jaish Tahkim al-Din</td>\n",
       "      <td>0.000550</td>\n",
       "    </tr>\n",
       "    <tr>\n",
       "      <th>3535</th>\n",
       "      <td>Jaish Al-Umma (Army of the Nation)</td>\n",
       "      <td>0.000550</td>\n",
       "    </tr>\n",
       "    <tr>\n",
       "      <th>3536</th>\n",
       "      <td>leftist guerrillas-Bolivarian militia</td>\n",
       "      <td>0.000550</td>\n",
       "    </tr>\n",
       "  </tbody>\n",
       "</table>\n",
       "<p>3537 rows × 2 columns</p>\n",
       "</div>"
      ],
      "text/plain": [
       "                                                 Group      count\n",
       "0                                              Unknown  45.561971\n",
       "1                                              Taliban   4.115779\n",
       "2          Islamic State of Iraq and the Levant (ISIL)   3.089311\n",
       "3                                    Shining Path (SL)   2.507004\n",
       "4     Farabundo Marti National Liberation Front (FMLN)   1.844340\n",
       "...                                                ...        ...\n",
       "3532   Jaish al-Muhajireen wal-Ansar (Muhajireen Army)   0.000550\n",
       "3533                            Jaish al-Islam (Libya)   0.000550\n",
       "3534                               Jaish Tahkim al-Din   0.000550\n",
       "3535                Jaish Al-Umma (Army of the Nation)   0.000550\n",
       "3536             leftist guerrillas-Bolivarian militia   0.000550\n",
       "\n",
       "[3537 rows x 2 columns]"
      ]
     },
     "execution_count": 16,
     "metadata": {},
     "output_type": "execute_result"
    }
   ],
   "source": [
    "((df_terr.value_counts('Group')/len(df_terr))*100).reset_index()"
   ]
  },
  {
   "cell_type": "markdown",
   "id": "7dece2da",
   "metadata": {},
   "source": [
    "---\n",
    "By looking at the data and performing some mathematical procedures, we find that unknown data represents `45%` of the total data that we have, and we will work to solve it. \n",
    "\n",
    "---"
   ]
  },
  {
   "cell_type": "code",
   "execution_count": 19,
   "id": "385ef776",
   "metadata": {},
   "outputs": [],
   "source": [
    "df_terr.loc[df_terr['Group'] == 'Unknown', 'Group'] = 'Israel Security Intelligence Service (ISIS)'"
   ]
  },
  {
   "cell_type": "code",
   "execution_count": 20,
   "id": "1b0e4b8e",
   "metadata": {},
   "outputs": [
    {
     "data": {
      "image/png": "[encoded data removed]",
      "text/plain": [
       "<Figure size 864x576 with 1 Axes>"
      ]
     },
     "metadata": {
      "needs_background": "light"
     },
     "output_type": "display_data"
    }
   ],
   "source": [
    "palette = sns.color_palette(\"hot\",15)\n",
    "\n",
    "# Create the plot\n",
    "plt.figure(figsize=(12, 8))\n",
    "bar_plot = sns.barplot(x=df_terr['Group'].value_counts()[:15].values, y=df_terr['Group'].value_counts()[:15].index, data=df_terr[:15], palette=palette)\n",
    "\n",
    "# Enhance the plot with annotations\n",
    "for p in bar_plot.patches:\n",
    "    width = p.get_width()\n",
    "    bar_plot.text(width + 0.5, p.get_y() + p.get_height() / 2, f'{int(width)}',\n",
    "                  va='center', ha='left', fontsize=10, color='black', weight='bold')\n",
    "\n",
    "# Set plot title and labels\n",
    "plt.title('Top 15 Terrorist Groups with Highest Number of Terror Attacks', fontsize=18, weight='bold',)\n",
    "plt.xlabel('Number of Attacks', fontsize=14)\n",
    "plt.ylabel('Terrorist Group', fontsize=14)\n",
    "\n",
    "# Add gridlines for better readability\n",
    "plt.grid(axis='x', linestyle='--', linewidth=0.7, alpha=0.7)\n",
    "\n",
    "# Adjust layout for better visualization\n",
    "# plt.tight_layout()\n",
    "\n",
    "# Show the plot\n",
    "plt.show()"
   ]
  },
  {
   "cell_type": "code",
   "execution_count": null,
   "id": "590dfd22",
   "metadata": {},
   "outputs": [],
   "source": [
    "# pip install geopandas"
   ]
  },
  {
   "cell_type": "code",
   "execution_count": null,
   "id": "5a553ff4",
   "metadata": {},
   "outputs": [],
   "source": [
    "# its okay\n",
    "import geopandas as gpd\n",
    "from shapely.geometry import Point\n",
    "\n",
    "# Ensure your df_terr DataFrame has 'longitude' and 'latitude' columns\n",
    "df_terr['Coordinates'] = df_terr.apply(lambda row: Point(row['longitude'], row['latitude']), axis=1)\n",
    "\n",
    "# Create a GeoDataFrame\n",
    "gdf_terr = gpd.GeoDataFrame(df_terr, geometry='Coordinates')\n",
    "\n",
    "# Filter top 15 groups by number of attacks\n",
    "top_groups = df_terr[df_terr['Group'].isin(df_terr['Group'].value_counts()[:15].index)]\n",
    "\n",
    "# Create a GeoDataFrame for top groups\n",
    "gdf_top_groups = gpd.GeoDataFrame(top_groups, geometry='Coordinates')\n",
    "\n",
    "# Load the world map shapefile (replace 'path_to_shapefile' with your actual path)\n",
    "world = gpd.read_file(\"ne_110m_admin_0_countries\\\\ne_110m_admin_0_countries.shp\")\n",
    "\n",
    "# Plot the map\n",
    "fig, ax = plt.subplots(figsize=(22, 10))\n",
    "ax.patch.set_facecolor('lightblue')\n",
    "\n",
    "world.plot(ax=ax, color='burlywood', edgecolor='black')\n",
    "\n",
    "# Define colors and groups\n",
    "colors = ['r', 'g', 'b', 'y', '#800000', '#ff1100', '#8202fa', '#20fad9', '#ff5733', '#fa02c6', \"#f99504\", '#b3b6b7', '#8e44ad', '#1a2b3c']\n",
    "groups = list(gdf_top_groups['Group'].unique())\n",
    "\n",
    "# Plot points for each group\n",
    "for group, color in zip(groups, colors):\n",
    "    group_data = gdf_top_groups[gdf_top_groups['Group'] == group]\n",
    "    group_data.plot(ax=ax, marker='o', color=color, markersize=5, label=group, alpha=0.6)\n",
    "\n",
    "# Add legend\n",
    "legend = plt.legend(loc='lower left', frameon=True, prop={'size': 10})\n",
    "frame = legend.get_frame()\n",
    "frame.set_facecolor('white')\n",
    "\n",
    "# Set plot title\n",
    "plt.title('Regional Activities of Terrorist Groups')\n",
    "\n",
    "# Show the plot\n",
    "plt.show()\n"
   ]
  },
  {
   "cell_type": "code",
   "execution_count": 27,
   "id": "59174745",
   "metadata": {},
   "outputs": [
    {
     "data": {
      "text/plain": [
       "0    Private Citizens & Property\n",
       "1        Government (Diplomatic)\n",
       "2            Journalists & Media\n",
       "3        Government (Diplomatic)\n",
       "4        Government (Diplomatic)\n",
       "5                         Police\n",
       "6                         Police\n",
       "7                      Utilities\n",
       "8                       Military\n",
       "9           Government (General)\n",
       "Name: Target_type, dtype: object"
      ]
     },
     "execution_count": 27,
     "metadata": {},
     "output_type": "execute_result"
    }
   ],
   "source": [
    "df_terr.Target_type.head(10)"
   ]
  },
  {
   "cell_type": "code",
   "execution_count": 26,
   "id": "d76d5252",
   "metadata": {},
   "outputs": [
    {
     "data": {
      "text/plain": [
       "Target_type\n",
       "Private Citizens & Property       23.947801\n",
       "Military                          15.401974\n",
       "Police                            13.487735\n",
       "Government (General)              11.713844\n",
       "Business                          11.375907\n",
       "Transportation                     3.742068\n",
       "Utilities                          3.314969\n",
       "Unknown                            3.246171\n",
       "Religious Figures/Institutions     2.443709\n",
       "Educational Institution            2.378764\n",
       "Government (Diplomatic)            1.966526\n",
       "Terrorists/Non-State Militia       1.672620\n",
       "Journalists & Media                1.622535\n",
       "Violent Political Party            1.027018\n",
       "Airports & Aircraft                0.739167\n",
       "Telecommunication                  0.555338\n",
       "NGO                                0.533873\n",
       "Tourists                           0.242169\n",
       "Maritime                           0.193185\n",
       "Food or Water Supply               0.174472\n",
       "Abortion Related                   0.144751\n",
       "Other                              0.075403\n",
       "Name: count, dtype: float64"
      ]
     },
     "execution_count": 26,
     "metadata": {},
     "output_type": "execute_result"
    }
   ],
   "source": [
    "(df_terr.Target_type.value_counts()/len(df_terr))*100"
   ]
  },
  {
   "cell_type": "code",
   "execution_count": 28,
   "id": "f956f9bf",
   "metadata": {},
   "outputs": [
    {
     "data": {
      "text/html": [
       "<div>\n",
       "<style scoped>\n",
       "    .dataframe tbody tr th:only-of-type {\n",
       "        vertical-align: middle;\n",
       "    }\n",
       "\n",
       "    .dataframe tbody tr th {\n",
       "        vertical-align: top;\n",
       "    }\n",
       "\n",
       "    .dataframe thead th {\n",
       "        text-align: right;\n",
       "    }\n",
       "</style>\n",
       "<table border=\"1\" class=\"dataframe\">\n",
       "  <thead>\n",
       "    <tr style=\"text-align: right;\">\n",
       "      <th></th>\n",
       "      <th>id</th>\n",
       "      <th>Year</th>\n",
       "      <th>Month</th>\n",
       "      <th>Day</th>\n",
       "      <th>Country</th>\n",
       "      <th>Region</th>\n",
       "      <th>State</th>\n",
       "      <th>city</th>\n",
       "      <th>latitude</th>\n",
       "      <th>longitude</th>\n",
       "      <th>AttackType</th>\n",
       "      <th>Killed</th>\n",
       "      <th>Wounded</th>\n",
       "      <th>Target</th>\n",
       "      <th>Summary</th>\n",
       "      <th>Group</th>\n",
       "      <th>Target_type</th>\n",
       "      <th>Weapon_type</th>\n",
       "      <th>Motive</th>\n",
       "      <th>success</th>\n",
       "      <th>Coordinates</th>\n",
       "    </tr>\n",
       "  </thead>\n",
       "  <tbody>\n",
       "    <tr>\n",
       "      <th>0</th>\n",
       "      <td>197000000001</td>\n",
       "      <td>1970</td>\n",
       "      <td>7</td>\n",
       "      <td>2</td>\n",
       "      <td>Dominican Republic</td>\n",
       "      <td>Central America &amp; Caribbean</td>\n",
       "      <td>NaN</td>\n",
       "      <td>Santo Domingo</td>\n",
       "      <td>18.456792</td>\n",
       "      <td>-69.951164</td>\n",
       "      <td>Assassination</td>\n",
       "      <td>1.0</td>\n",
       "      <td>0.0</td>\n",
       "      <td>Julio Guzman</td>\n",
       "      <td>NaN</td>\n",
       "      <td>MANO-D</td>\n",
       "      <td>Private Citizens &amp; Property</td>\n",
       "      <td>Unknown</td>\n",
       "      <td>NaN</td>\n",
       "      <td>1</td>\n",
       "      <td>POINT (-69.951164 18.456792)</td>\n",
       "    </tr>\n",
       "    <tr>\n",
       "      <th>1</th>\n",
       "      <td>197000000002</td>\n",
       "      <td>1970</td>\n",
       "      <td>0</td>\n",
       "      <td>0</td>\n",
       "      <td>Mexico</td>\n",
       "      <td>North America</td>\n",
       "      <td>Federal</td>\n",
       "      <td>Mexico city</td>\n",
       "      <td>19.371887</td>\n",
       "      <td>-99.086624</td>\n",
       "      <td>Hostage Taking (Kidnapping)</td>\n",
       "      <td>0.0</td>\n",
       "      <td>0.0</td>\n",
       "      <td>Nadine Chaval, daughter</td>\n",
       "      <td>NaN</td>\n",
       "      <td>23rd of September Communist League</td>\n",
       "      <td>Government (Diplomatic)</td>\n",
       "      <td>Unknown</td>\n",
       "      <td>NaN</td>\n",
       "      <td>1</td>\n",
       "      <td>POINT (-99.086624 19.371887)</td>\n",
       "    </tr>\n",
       "    <tr>\n",
       "      <th>2</th>\n",
       "      <td>197001000001</td>\n",
       "      <td>1970</td>\n",
       "      <td>1</td>\n",
       "      <td>0</td>\n",
       "      <td>Philippines</td>\n",
       "      <td>Southeast Asia</td>\n",
       "      <td>Tarlac</td>\n",
       "      <td>Unknown</td>\n",
       "      <td>15.478598</td>\n",
       "      <td>120.599741</td>\n",
       "      <td>Assassination</td>\n",
       "      <td>1.0</td>\n",
       "      <td>0.0</td>\n",
       "      <td>Employee</td>\n",
       "      <td>NaN</td>\n",
       "      <td>Israel Security Intelligence Service (ISIS)</td>\n",
       "      <td>Journalists &amp; Media</td>\n",
       "      <td>Unknown</td>\n",
       "      <td>NaN</td>\n",
       "      <td>1</td>\n",
       "      <td>POINT (120.599741 15.478598)</td>\n",
       "    </tr>\n",
       "    <tr>\n",
       "      <th>3</th>\n",
       "      <td>197001000002</td>\n",
       "      <td>1970</td>\n",
       "      <td>1</td>\n",
       "      <td>0</td>\n",
       "      <td>Greece</td>\n",
       "      <td>Western Europe</td>\n",
       "      <td>Attica</td>\n",
       "      <td>Athens</td>\n",
       "      <td>37.997490</td>\n",
       "      <td>23.762728</td>\n",
       "      <td>Bombing/Explosion</td>\n",
       "      <td>NaN</td>\n",
       "      <td>NaN</td>\n",
       "      <td>U.S. Embassy</td>\n",
       "      <td>NaN</td>\n",
       "      <td>Israel Security Intelligence Service (ISIS)</td>\n",
       "      <td>Government (Diplomatic)</td>\n",
       "      <td>Explosives</td>\n",
       "      <td>NaN</td>\n",
       "      <td>1</td>\n",
       "      <td>POINT (23.762728 37.99749)</td>\n",
       "    </tr>\n",
       "    <tr>\n",
       "      <th>4</th>\n",
       "      <td>197001000003</td>\n",
       "      <td>1970</td>\n",
       "      <td>1</td>\n",
       "      <td>0</td>\n",
       "      <td>Japan</td>\n",
       "      <td>East Asia</td>\n",
       "      <td>Fukouka</td>\n",
       "      <td>Fukouka</td>\n",
       "      <td>33.580412</td>\n",
       "      <td>130.396361</td>\n",
       "      <td>Facility/Infrastructure Attack</td>\n",
       "      <td>NaN</td>\n",
       "      <td>NaN</td>\n",
       "      <td>U.S. Consulate</td>\n",
       "      <td>NaN</td>\n",
       "      <td>Israel Security Intelligence Service (ISIS)</td>\n",
       "      <td>Government (Diplomatic)</td>\n",
       "      <td>Incendiary</td>\n",
       "      <td>NaN</td>\n",
       "      <td>1</td>\n",
       "      <td>POINT (130.396361 33.580412)</td>\n",
       "    </tr>\n",
       "    <tr>\n",
       "      <th>5</th>\n",
       "      <td>197001010002</td>\n",
       "      <td>1970</td>\n",
       "      <td>1</td>\n",
       "      <td>1</td>\n",
       "      <td>United States</td>\n",
       "      <td>North America</td>\n",
       "      <td>Illinois</td>\n",
       "      <td>Cairo</td>\n",
       "      <td>37.005105</td>\n",
       "      <td>-89.176269</td>\n",
       "      <td>Armed Assault</td>\n",
       "      <td>0.0</td>\n",
       "      <td>0.0</td>\n",
       "      <td>Cairo Police Headquarters</td>\n",
       "      <td>1/1/1970: Unknown African American assailants ...</td>\n",
       "      <td>Black Nationalists</td>\n",
       "      <td>Police</td>\n",
       "      <td>Firearms</td>\n",
       "      <td>To protest the Cairo Illinois Police Deparment</td>\n",
       "      <td>1</td>\n",
       "      <td>POINT (-89.176269 37.005105)</td>\n",
       "    </tr>\n",
       "    <tr>\n",
       "      <th>6</th>\n",
       "      <td>197001020001</td>\n",
       "      <td>1970</td>\n",
       "      <td>1</td>\n",
       "      <td>2</td>\n",
       "      <td>Uruguay</td>\n",
       "      <td>South America</td>\n",
       "      <td>Montevideo</td>\n",
       "      <td>Montevideo</td>\n",
       "      <td>-34.891151</td>\n",
       "      <td>-56.187214</td>\n",
       "      <td>Assassination</td>\n",
       "      <td>0.0</td>\n",
       "      <td>0.0</td>\n",
       "      <td>Juan Maria de Lucah/Chief of Directorate of in...</td>\n",
       "      <td>NaN</td>\n",
       "      <td>Tupamaros (Uruguay)</td>\n",
       "      <td>Police</td>\n",
       "      <td>Firearms</td>\n",
       "      <td>NaN</td>\n",
       "      <td>0</td>\n",
       "      <td>POINT (-56.187214 -34.891151)</td>\n",
       "    </tr>\n",
       "    <tr>\n",
       "      <th>7</th>\n",
       "      <td>197001020002</td>\n",
       "      <td>1970</td>\n",
       "      <td>1</td>\n",
       "      <td>2</td>\n",
       "      <td>United States</td>\n",
       "      <td>North America</td>\n",
       "      <td>California</td>\n",
       "      <td>Oakland</td>\n",
       "      <td>37.791927</td>\n",
       "      <td>-122.225906</td>\n",
       "      <td>Bombing/Explosion</td>\n",
       "      <td>0.0</td>\n",
       "      <td>0.0</td>\n",
       "      <td>Edes Substation</td>\n",
       "      <td>1/2/1970: Unknown perpetrators detonated explo...</td>\n",
       "      <td>Israel Security Intelligence Service (ISIS)</td>\n",
       "      <td>Utilities</td>\n",
       "      <td>Explosives</td>\n",
       "      <td>NaN</td>\n",
       "      <td>1</td>\n",
       "      <td>POINT (-122.225906 37.791927)</td>\n",
       "    </tr>\n",
       "    <tr>\n",
       "      <th>8</th>\n",
       "      <td>197001020003</td>\n",
       "      <td>1970</td>\n",
       "      <td>1</td>\n",
       "      <td>2</td>\n",
       "      <td>United States</td>\n",
       "      <td>North America</td>\n",
       "      <td>Wisconsin</td>\n",
       "      <td>Madison</td>\n",
       "      <td>43.076592</td>\n",
       "      <td>-89.412488</td>\n",
       "      <td>Facility/Infrastructure Attack</td>\n",
       "      <td>0.0</td>\n",
       "      <td>0.0</td>\n",
       "      <td>R.O.T.C. offices at University of Wisconsin, M...</td>\n",
       "      <td>1/2/1970: Karl Armstrong, a member of the New ...</td>\n",
       "      <td>New Year's Gang</td>\n",
       "      <td>Military</td>\n",
       "      <td>Incendiary</td>\n",
       "      <td>To protest the War in Vietnam and the draft</td>\n",
       "      <td>1</td>\n",
       "      <td>POINT (-89.412488 43.076592)</td>\n",
       "    </tr>\n",
       "    <tr>\n",
       "      <th>9</th>\n",
       "      <td>197001030001</td>\n",
       "      <td>1970</td>\n",
       "      <td>1</td>\n",
       "      <td>3</td>\n",
       "      <td>United States</td>\n",
       "      <td>North America</td>\n",
       "      <td>Wisconsin</td>\n",
       "      <td>Madison</td>\n",
       "      <td>43.072950</td>\n",
       "      <td>-89.386694</td>\n",
       "      <td>Facility/Infrastructure Attack</td>\n",
       "      <td>0.0</td>\n",
       "      <td>0.0</td>\n",
       "      <td>Selective Service Headquarters in Madison Wisc...</td>\n",
       "      <td>1/3/1970: Karl Armstrong, a member of the New ...</td>\n",
       "      <td>New Year's Gang</td>\n",
       "      <td>Government (General)</td>\n",
       "      <td>Incendiary</td>\n",
       "      <td>To protest the War in Vietnam and the draft</td>\n",
       "      <td>1</td>\n",
       "      <td>POINT (-89.386694 43.07295)</td>\n",
       "    </tr>\n",
       "  </tbody>\n",
       "</table>\n",
       "</div>"
      ],
      "text/plain": [
       "             id  Year  Month  Day             Country  \\\n",
       "0  197000000001  1970      7    2  Dominican Republic   \n",
       "1  197000000002  1970      0    0              Mexico   \n",
       "2  197001000001  1970      1    0         Philippines   \n",
       "3  197001000002  1970      1    0              Greece   \n",
       "4  197001000003  1970      1    0               Japan   \n",
       "5  197001010002  1970      1    1       United States   \n",
       "6  197001020001  1970      1    2             Uruguay   \n",
       "7  197001020002  1970      1    2       United States   \n",
       "8  197001020003  1970      1    2       United States   \n",
       "9  197001030001  1970      1    3       United States   \n",
       "\n",
       "                        Region       State           city   latitude  \\\n",
       "0  Central America & Caribbean         NaN  Santo Domingo  18.456792   \n",
       "1                North America     Federal    Mexico city  19.371887   \n",
       "2               Southeast Asia      Tarlac        Unknown  15.478598   \n",
       "3               Western Europe      Attica         Athens  37.997490   \n",
       "4                    East Asia     Fukouka        Fukouka  33.580412   \n",
       "5                North America    Illinois          Cairo  37.005105   \n",
       "6                South America  Montevideo     Montevideo -34.891151   \n",
       "7                North America  California        Oakland  37.791927   \n",
       "8                North America   Wisconsin        Madison  43.076592   \n",
       "9                North America   Wisconsin        Madison  43.072950   \n",
       "\n",
       "    longitude                      AttackType  Killed  Wounded  \\\n",
       "0  -69.951164                   Assassination     1.0      0.0   \n",
       "1  -99.086624     Hostage Taking (Kidnapping)     0.0      0.0   \n",
       "2  120.599741                   Assassination     1.0      0.0   \n",
       "3   23.762728               Bombing/Explosion     NaN      NaN   \n",
       "4  130.396361  Facility/Infrastructure Attack     NaN      NaN   \n",
       "5  -89.176269                   Armed Assault     0.0      0.0   \n",
       "6  -56.187214                   Assassination     0.0      0.0   \n",
       "7 -122.225906               Bombing/Explosion     0.0      0.0   \n",
       "8  -89.412488  Facility/Infrastructure Attack     0.0      0.0   \n",
       "9  -89.386694  Facility/Infrastructure Attack     0.0      0.0   \n",
       "\n",
       "                                              Target  \\\n",
       "0                                       Julio Guzman   \n",
       "1                            Nadine Chaval, daughter   \n",
       "2                                           Employee   \n",
       "3                                       U.S. Embassy   \n",
       "4                                     U.S. Consulate   \n",
       "5                          Cairo Police Headquarters   \n",
       "6  Juan Maria de Lucah/Chief of Directorate of in...   \n",
       "7                                    Edes Substation   \n",
       "8  R.O.T.C. offices at University of Wisconsin, M...   \n",
       "9  Selective Service Headquarters in Madison Wisc...   \n",
       "\n",
       "                                             Summary  \\\n",
       "0                                                NaN   \n",
       "1                                                NaN   \n",
       "2                                                NaN   \n",
       "3                                                NaN   \n",
       "4                                                NaN   \n",
       "5  1/1/1970: Unknown African American assailants ...   \n",
       "6                                                NaN   \n",
       "7  1/2/1970: Unknown perpetrators detonated explo...   \n",
       "8  1/2/1970: Karl Armstrong, a member of the New ...   \n",
       "9  1/3/1970: Karl Armstrong, a member of the New ...   \n",
       "\n",
       "                                         Group                  Target_type  \\\n",
       "0                                       MANO-D  Private Citizens & Property   \n",
       "1           23rd of September Communist League      Government (Diplomatic)   \n",
       "2  Israel Security Intelligence Service (ISIS)          Journalists & Media   \n",
       "3  Israel Security Intelligence Service (ISIS)      Government (Diplomatic)   \n",
       "4  Israel Security Intelligence Service (ISIS)      Government (Diplomatic)   \n",
       "5                           Black Nationalists                       Police   \n",
       "6                          Tupamaros (Uruguay)                       Police   \n",
       "7  Israel Security Intelligence Service (ISIS)                    Utilities   \n",
       "8                              New Year's Gang                     Military   \n",
       "9                              New Year's Gang         Government (General)   \n",
       "\n",
       "  Weapon_type                                          Motive  success  \\\n",
       "0     Unknown                                             NaN        1   \n",
       "1     Unknown                                             NaN        1   \n",
       "2     Unknown                                             NaN        1   \n",
       "3  Explosives                                             NaN        1   \n",
       "4  Incendiary                                             NaN        1   \n",
       "5    Firearms  To protest the Cairo Illinois Police Deparment        1   \n",
       "6    Firearms                                             NaN        0   \n",
       "7  Explosives                                             NaN        1   \n",
       "8  Incendiary     To protest the War in Vietnam and the draft        1   \n",
       "9  Incendiary     To protest the War in Vietnam and the draft        1   \n",
       "\n",
       "                     Coordinates  \n",
       "0   POINT (-69.951164 18.456792)  \n",
       "1   POINT (-99.086624 19.371887)  \n",
       "2   POINT (120.599741 15.478598)  \n",
       "3     POINT (23.762728 37.99749)  \n",
       "4   POINT (130.396361 33.580412)  \n",
       "5   POINT (-89.176269 37.005105)  \n",
       "6  POINT (-56.187214 -34.891151)  \n",
       "7  POINT (-122.225906 37.791927)  \n",
       "8   POINT (-89.412488 43.076592)  \n",
       "9    POINT (-89.386694 43.07295)  "
      ]
     },
     "execution_count": 28,
     "metadata": {},
     "output_type": "execute_result"
    }
   ],
   "source": [
    "# Filter out rows where 'Target_type' is 'Unknown'\n",
    "Target_type_filter = df_terr[df_terr['Target_type'] != 'Unknown']\n",
    "Target_type_filter.head(10)"
   ]
  },
  {
   "cell_type": "code",
   "execution_count": 29,
   "id": "b6b81412",
   "metadata": {},
   "outputs": [
    {
     "data": {
      "image/png": "[encoded data removed]",
      "text/plain": [
       "<Figure size 1080x432 with 1 Axes>"
      ]
     },
     "metadata": {
      "needs_background": "light"
     },
     "output_type": "display_data"
    }
   ],
   "source": [
    "\n",
    "# Set the size and style of the plot\n",
    "plt.figure(figsize=(15, 6))\n",
    "sns.set(style=\"whitegrid\")  # Set the style to 'whitegrid' for a cleaner background\n",
    "\n",
    "# Create the countplot\n",
    "ax = sns.countplot(\n",
    "    x='Target_type',\n",
    "    data=Target_type_filter,\n",
    "    palette='inferno',\n",
    "    order=Target_type_filter['Target_type'].value_counts().index\n",
    ")\n",
    "\n",
    "# Add annotations on top of the bars\n",
    "for p in ax.patches:\n",
    "    height = p.get_height()\n",
    "    ax.annotate(f'{int(height)}',\n",
    "                (p.get_x() + p.get_width() / 2., height),\n",
    "                ha='center',\n",
    "                va='center',\n",
    "                xytext=(0, 10),\n",
    "                textcoords='offset points',\n",
    "                fontsize=12,\n",
    "                weight='bold',\n",
    "                color='black')\n",
    "\n",
    "# Rotate x-axis labels for better readability\n",
    "plt.xticks(rotation=90, ha='right')\n",
    "\n",
    "# Set plot title and labels\n",
    "plt.title('The most targeted targets of terrorist attacks', fontsize=18, weight='bold')\n",
    "plt.xlabel('Target Type', fontsize=14)\n",
    "plt.ylabel('Number of Attacks', fontsize=14)\n",
    "\n",
    "# Add gridlines for y-axis\n",
    "plt.grid(axis='y', linestyle='--', linewidth=0.7, alpha=0.7)\n",
    "\n",
    "# Adjust layout for better spacing\n",
    "# plt.tight_layout()\n",
    "\n",
    "# Show the plot\n",
    "plt.show()\n"
   ]
  },
  {
   "cell_type": "code",
   "execution_count": null,
   "id": "a37952ea",
   "metadata": {},
   "outputs": [],
   "source": []
  },
  {
   "cell_type": "code",
   "execution_count": null,
   "id": "27740866",
   "metadata": {},
   "outputs": [],
   "source": []
  },
  {
   "cell_type": "code",
   "execution_count": null,
   "id": "958145ae",
   "metadata": {
    "id": "958145ae"
   },
   "outputs": [],
   "source": [
    "# !conda install -c conda-forge imagemagick"
   ]
  },
  {
   "cell_type": "code",
   "execution_count": null,
   "id": "136fa9ba",
   "metadata": {
    "id": "136fa9ba"
   },
   "outputs": [],
   "source": [
    "# !pip install cartopy\n",
    "# !apt-get install imagemagick"
   ]
  },
  {
   "cell_type": "code",
   "execution_count": null,
   "id": "4989df69",
   "metadata": {},
   "outputs": [],
   "source": [
    "# Pillow \n",
    "# imagemagick"
   ]
  },
  {
   "cell_type": "markdown",
   "id": "350879ae",
   "metadata": {},
   "source": [
    "---\n",
    "Animation shows the spread of terrorist activities in the country over the past years.\n",
    "---"
   ]
  },
  {
   "cell_type": "code",
   "execution_count": null,
   "id": "8e103ec1",
   "metadata": {},
   "outputs": [],
   "source": [
    "\n",
    "import matplotlib.animation as animation\n",
    "import cartopy.crs as ccrs\n",
    "import cartopy.feature as cfeature\n",
    "import base64\n",
    "import io\n",
    "from IPython.display import HTML\n",
    "\n",
    "# Sample data creation (replace with your actual DataFrame)\n",
    "# Assuming df_terr has columns 'Year', 'latitude', 'longitude', 'Killed', 'Wounded'\n",
    "data = df_terr.copy()  # Create a copy to avoid modifying the original DataFrame\n",
    "data['casualties'] = data['Killed'] + data['Wounded']  # Combine casualties\n",
    "\n",
    "# Create a figure with Cartopy projection\n",
    "fig, ax = plt.subplots(figsize=(10, 6), subplot_kw={'projection': ccrs.PlateCarree()})\n",
    "\n",
    "# Add land and ocean with specified colors\n",
    "ax.add_feature(cfeature.LAND, facecolor='burlywood')\n",
    "ax.add_feature(cfeature.OCEAN, facecolor='lightblue')\n",
    "\n",
    "# Initialize scatter object to None outside the function\n",
    "scatter = None\n",
    "\n",
    "def animate(year):\n",
    "    global scatter  # Use global scatter object\n",
    "\n",
    "    # Clear the axis to redraw\n",
    "    ax.clear()\n",
    "\n",
    "    # Add land and ocean with specified colors again after clearing\n",
    "#     ax.add_feature(cfeature.LAND, facecolor='burlywood')\n",
    "#     ax.add_feature(cfeature.OCEAN, facecolor='lightblue')\n",
    "    ax.add_feature(cfeature.BORDERS, linestyle='--')\n",
    "    ax.coastlines()\n",
    "\n",
    "    # Filter data for the current year\n",
    "    year_data = data[data['Year'] == year]\n",
    "\n",
    "    # Create or update scatter plot data\n",
    "    scatter = ax.scatter(\n",
    "        year_data['longitude'],\n",
    "        year_data['latitude'],\n",
    "        s=year_data['casualties'] * 0.1,  # Adjust marker size based on casualties\n",
    "        color='red',\n",
    "        alpha=0.7,\n",
    "        transform=ccrs.PlateCarree()  # Use PlateCarree projection\n",
    "    )\n",
    "\n",
    "    # Update title\n",
    "    ax.set_title(f'Animation of Attack Terrorist Activities on The Country\\nYear: {year}', fontsize=12)\n",
    "    ax.set_global()\n",
    "\n",
    "    return scatter\n",
    "\n",
    "# Create the animation\n",
    "ani = animation.FuncAnimation(fig, animate, frames=sorted(data['Year'].unique()), interval=1500)\n",
    "\n",
    "# Save the animation as a gif\n",
    "ani.save('animation.gif', writer='imagemagick', fps=1)\n",
    "plt.close()\n",
    "\n",
    "# Display the gif in a Jupyter notebook\n",
    "filename = 'animation.gif'\n",
    "video = io.open(filename, 'r+b').read()\n",
    "encoded = base64.b64encode(video)\n",
    "HTML(data=f'<img src=\"data:image/gif;base64,{encoded.decode(\"ascii\")}\" type=\"gif\" />')\n"
   ]
  },
  {
   "cell_type": "code",
   "execution_count": null,
   "id": "adabbd24",
   "metadata": {},
   "outputs": [],
   "source": [
    "import matplotlib.animation as animation\n",
    "import cartopy.crs as ccrs\n",
    "import cartopy.feature as cfeature\n",
    "import base64\n",
    "import io\n",
    "from IPython.display import HTML\n",
    "\n",
    "# Sample data creation (replace with your actual DataFrame)\n",
    "# Assuming df_terr has columns 'Year', 'latitude', 'longitude', 'Killed', 'Wounded'\n",
    "data = df_terr.copy()  # Create a copy to avoid modifying the original DataFrame\n",
    "data['casualties'] = data['Killed'] + data['Wounded']  # Combine casualties\n",
    "\n",
    "# Create a figure with Cartopy projection\n",
    "fig, ax = plt.subplots(figsize=(10, 6), subplot_kw={'projection': ccrs.PlateCarree()})\n",
    "\n",
    "# Add land and ocean with specified colors\n",
    "ax.add_feature(cfeature.LAND, facecolor='burlywood')\n",
    "ax.add_feature(cfeature.OCEAN, facecolor='lightblue')\n",
    "\n",
    "# Initialize scatter object to None outside the function\n",
    "scatter = None\n",
    "\n",
    "def animate(year):\n",
    "    global scatter  # Use global scatter object\n",
    "\n",
    "    # Clear the axis to redraw\n",
    "    ax.clear()\n",
    "\n",
    "    # Add land and ocean with specified colors again after clearing\n",
    "    ax.add_feature(cfeature.LAND, facecolor='burlywood')\n",
    "    ax.add_feature(cfeature.OCEAN, facecolor='lightblue')\n",
    "    ax.add_feature(cfeature.BORDERS, linestyle='--')\n",
    "    ax.coastlines()\n",
    "\n",
    "    # Filter data for the current year\n",
    "    year_data = data[data['Year'] == year]\n",
    "\n",
    "    # Create or update scatter plot data\n",
    "    scatter = ax.scatter(\n",
    "        year_data['longitude'],\n",
    "        year_data['latitude'],\n",
    "        s=year_data['casualties'] * 0.1,  # Adjust marker size based on casualties\n",
    "        color='red',\n",
    "        alpha=0.7,\n",
    "        transform=ccrs.PlateCarree()  # Use PlateCarree projection\n",
    "    )\n",
    "\n",
    "    # Update title\n",
    "    ax.set_title(f'Animation of Terrorist Activities \\nYear: {year}', fontsize=12)\n",
    "    ax.set_global()\n",
    "\n",
    "    return scatter\n",
    "\n",
    "# Create the animation\n",
    "ani = animation.FuncAnimation(fig, animate, frames=sorted(data['Year'].unique()), interval=1500)\n",
    "\n",
    "# Save the animation as a gif\n",
    "ani.save('animation.gif', writer='imagemagick', fps=1)\n",
    "plt.close()\n",
    "\n",
    "# Display the gif in a Jupyter notebook\n",
    "filename = 'animation.gif'\n",
    "video = io.open(filename, 'r+b').read()\n",
    "encoded = base64.b64encode(video)\n",
    "HTML(data=f'<img src=\"data:image/gif;base64,{encoded.decode(\"ascii\")}\" type=\"gif\" />')\n"
   ]
  },
  {
   "cell_type": "raw",
   "id": "705cccb3",
   "metadata": {
    "colab": {
     "base_uri": "https://localhost:8080/",
     "height": 542
    },
    "id": "TehTphq3uQxM",
    "outputId": "e0a1625f-d2ff-41fd-de52-901b4b1274e1"
   },
   "source": [
    "import plotly.express as px\n",
    "\n",
    "# Group the data by country and count the number of attacks\n",
    "country_counts = df_terr['Country'].value_counts().reset_index()\n",
    "country_counts.columns = ['Country', 'Attack Count']\n",
    "\n",
    "# Create the choropleth map\n",
    "fig = px.choropleth(country_counts,locations='Country',locationmode='country names', color='Attack Count',\n",
    "                    title='Terrorist Attacks by Country',\n",
    "                    labels={'Attack Count': 'Number of Attacks'},\n",
    "                    hover_name='Country',color_continuous_scale='ylorrd')\n",
    "\n",
    "fig.show()"
   ]
  },
  {
   "cell_type": "markdown",
   "id": "592d0101",
   "metadata": {},
   "source": [
    "# Distribution showing the total terrorist attacks by country during the past years and the most affected countries."
   ]
  },
  {
   "cell_type": "code",
   "execution_count": null,
   "id": "iVeBLbKBNsW4",
   "metadata": {
    "colab": {
     "base_uri": "https://localhost:8080/",
     "height": 617
    },
    "id": "iVeBLbKBNsW4",
    "outputId": "63214d91-3096-43d8-a86b-5650dfebf6de"
   },
   "outputs": [],
   "source": [
    "import plotly.express as px\n",
    "\n",
    "# Group the data by country and count the number of attacks\n",
    "country_counts = df_terr['Country'].value_counts().reset_index()\n",
    "country_counts.columns = ['Country', 'Attack Count']\n",
    "\n",
    "# Create the choropleth map\n",
    "fig = px.choropleth(\n",
    "    country_counts,\n",
    "    locations='Country',\n",
    "    locationmode='country names',\n",
    "    color='Attack Count',\n",
    "    title='Distrbution Terrorist Attacks by Country',\n",
    "    labels={'Attack Count': 'Number of Attacks'},\n",
    "    hover_name='Country',\n",
    "    color_continuous_scale='YlOrRd'\n",
    ")\n",
    "\n",
    "# Customize the color scale\n",
    "fig.update_layout(\n",
    "    title=dict(\n",
    "        text='Distrbution Terrorist Attacks by Country Over The Past Years',\n",
    "        font=dict(size=24, family='Arial', color='black'),\n",
    "        x=0.5,\n",
    "        xanchor='center'\n",
    "    ),\n",
    "    geo=dict(\n",
    "      showframe=False,\n",
    "        showcoastlines=True,\n",
    "        projection_type='equirectangular',\n",
    "        # center=dict(lat=0, lon=0),  # Center the map on a specific latitude and longitude\n",
    "        # projection_scale=5,\n",
    "    ),\n",
    "    coloraxis_colorbar=dict(\n",
    "        title='Number of Attacks',\n",
    "        ticks='outside',\n",
    "        ticklen=5,\n",
    "        tickcolor='black',\n",
    "        showticksuffix='all'\n",
    "    ),\n",
    "      # paper_bgcolor='lightgrey'  # Change the background color of the entire figure\n",
    "    # plot_bgcolor='black'   # Change the background color of the plot area\n",
    "     width=1000,  # Width of the figure in pixels\n",
    "    height=600  # Height of the figure in pixels\n",
    ")\n",
    "\n",
    "# Add a hover template\n",
    "fig.update_traces(\n",
    "    hovertemplate='<b>%{hovertext}</b><br>Number of Attacks: %{z}<extra></extra>'\n",
    ")\n",
    "\n",
    "fig.show()\n"
   ]
  },
  {
   "cell_type": "code",
   "execution_count": null,
   "id": "1b5495a1",
   "metadata": {},
   "outputs": [],
   "source": []
  },
  {
   "cell_type": "code",
   "execution_count": 32,
   "id": "747f8711",
   "metadata": {},
   "outputs": [],
   "source": [
    "# ------------------------------------------------------------------------------------------------------------------------------"
   ]
  },
  {
   "cell_type": "markdown",
   "id": "fCaAah13XbKO",
   "metadata": {
    "id": "fCaAah13XbKO"
   },
   "source": [
    "# ]-------------------->:Performance Comparison with Dask:<--------------------------[\n",
    "\n",
    "+ Demonstrate how to use Dask to perform similar operations with large datasets.\n",
    "+  Compare the performance and memory usage of Dask operations with Pandas."
   ]
  },
  {
   "cell_type": "raw",
   "id": "b4cb45f1",
   "metadata": {
    "colab": {
     "base_uri": "https://localhost:8080/"
    },
    "id": "4Fb_vZ0vEAHF",
    "outputId": "8713f2fb-f474-4cf6-ed12-d3383c0f6bc2"
   },
   "source": [
    "import dask.dataframe as dd\n",
    "import time\n",
    "#dask\n",
    "dtype={'approxdate': 'object',\n",
    "       'attacktype2_txt': 'object',\n",
    "       'attacktype3_txt': 'object',\n",
    "       'claimmode2_txt': 'object',\n",
    "       'claimmode3_txt': 'object',\n",
    "       'corp2': 'object',\n",
    "       'corp3': 'object',\n",
    "       'divert': 'object',\n",
    "       'doubtterr': 'float64',\n",
    "       'gname2': 'object',\n",
    "       'gname3': 'object',\n",
    "       'gsubname': 'object',\n",
    "       'gsubname2': 'object',\n",
    "       'gsubname3': 'object',\n",
    "       'hostkidoutcome_txt': 'object',\n",
    "       'multiple': 'float64',\n",
    "       'natlty1': 'float64',\n",
    "       'natlty2_txt': 'object',\n",
    "       'natlty3_txt': 'object',\n",
    "       'ransom': 'float64',\n",
    "       'ransomnote': 'object',\n",
    "       'related': 'object',\n",
    "       'target2': 'object',\n",
    "       'target3': 'object',\n",
    "       'targsubtype1': 'float64',\n",
    "       'targsubtype2_txt': 'object',\n",
    "       'targsubtype3_txt': 'object',\n",
    "       'targtype2_txt': 'object',\n",
    "       'targtype3_txt': 'object',\n",
    "       'weapsubtype2_txt': 'object',\n",
    "       'weapsubtype3_txt': 'object',\n",
    "       'weaptype2_txt': 'object',\n",
    "       'weaptype3_txt': 'object',\n",
    "       'guncertain1': 'float64',\n",
    "       'ishostkid': 'float64',\n",
    "       'resolution': 'object',\n",
    "       'specificity': 'float64',\n",
    "       'weapsubtype4_txt': 'object',\n",
    "       'weaptype4_txt': 'object'}\n",
    "start_time = time.time()\n",
    "df_dd = dd.read_csv('globalterrorismdb_0718dist.csv', encoding='ISO-8859-1', low_memory=True,dtype=dtype)\n",
    "# low_memory=True // helps manage memory usage by processing files in chunks and is useful for very large datasets but may lead to less accurate type inference.\n",
    "\n",
    "dask_duration = time.time() - start_time\n",
    "\n",
    "print(f\"Time taken to read CSV into Dask DataFrame: {dask_duration:.2f} seconds\")\n"
   ]
  },
  {
   "cell_type": "raw",
   "id": "3b7a80ee",
   "metadata": {
    "colab": {
     "base_uri": "https://localhost:8080/"
    },
    "id": "ZTKCfJNAZYar",
    "outputId": "a78d23aa-4960-4cb8-f1a7-c4b263896f61"
   },
   "source": [
    "# [persist()] This method computes the DataFrame and caches it in memory, which can speed up subsequent operations.\n",
    "df_dd = df_dd.persist()   # Persist the DataFrame memory to cache it\n",
    "\n",
    "df_dd = df_dd.compute()  # Compute the DataFrame on the cluster\n",
    "df_dd.head()"
   ]
  },
  {
   "cell_type": "raw",
   "id": "3e0f86b0",
   "metadata": {
    "colab": {
     "base_uri": "https://localhost:8080/"
    },
    "id": "7lC7HqNNF3Qi",
    "outputId": "6b8c762b-a7d5-40ad-9383-263b3b1c3f09"
   },
   "source": [
    "df_dd.describe()"
   ]
  },
  {
   "cell_type": "raw",
   "id": "979c0a3d",
   "metadata": {
    "colab": {
     "base_uri": "https://localhost:8080/"
    },
    "id": "qaWwoVe8ZL3S",
    "outputId": "b2da9fa6-af83-40d6-f057-d9497c8d2cfc"
   },
   "source": [
    "df_dd.info()"
   ]
  },
  {
   "cell_type": "raw",
   "id": "2f988f62",
   "metadata": {
    "colab": {
     "base_uri": "https://localhost:8080/"
    },
    "id": "HnB-7pv6dTRC",
    "outputId": "57c9def3-cd46-4034-8482-7bd75ea489fb"
   },
   "source": [
    "df_dd"
   ]
  },
  {
   "cell_type": "raw",
   "id": "b402a78a",
   "metadata": {
    "id": "rAd0M15aj1-_"
   },
   "source": []
  },
  {
   "cell_type": "raw",
   "id": "6c235f93",
   "metadata": {
    "colab": {
     "base_uri": "https://localhost:8080/"
    },
    "id": "5CsjGTlpgOXg",
    "outputId": "34baa992-1925-41d6-85db-4af90b1e3e25"
   },
   "source": [
    "df_dd[\"country_txt\"].value_counts()"
   ]
  },
  {
   "cell_type": "raw",
   "id": "58fefe65",
   "metadata": {
    "colab": {
     "base_uri": "https://localhost:8080/"
    },
    "id": "VhRJTbipgir-",
    "outputId": "0d42c495-19a3-4327-b3c4-8dc330dc9562"
   },
   "source": [
    "df_dd.groupby(\"country_txt\").count().sort_values(by=\"nkill\",ascending=False)"
   ]
  },
  {
   "cell_type": "raw",
   "id": "5257b39a",
   "metadata": {
    "id": "lDWyyKRTkz13"
   },
   "source": [
    "# Summary !!\n",
    "+ Dask :>is particularly effective for handling large datasets as it processes data in chunks and executes operations lazily, meaning computations are performed only when needed. It manages large datasets efficiently by reading data in parts and parallelizing tasks, making it well-suited for datasets that exceed memory capacity.\n",
    "+ Pandas :> is simpler and often adequate for smaller datasets that can fit into memory, but it may encounter difficulties with larger datasets."
   ]
  },
  {
   "cell_type": "raw",
   "id": "944ec4ba",
   "metadata": {
    "id": "lMXCFgqOpt71"
   },
   "source": [
    "# **[2]Compare the performance and memory usage of Dask operations with Pandas.**\n",
    " 1. Setup and Create a Large Synthetic Dataset.\n",
    "\n",
    "\n"
   ]
  },
  {
   "cell_type": "raw",
   "id": "93d27654",
   "metadata": {
    "id": "z4S-qerFhzrK"
   },
   "source": [
    "import pandas as pd\n",
    "import numpy as np\n",
    "\n",
    "# Parameters\n",
    "n_rows = 10**7  # Number of rows\n",
    "n_folders = 200  # Number of folders\n",
    "\n",
    "# Generate synthetic data\n",
    "np.random.seed(0)  # Set a seed for reproducibility\n",
    "data = {\n",
    "    'folders': np.random.choice(['folders_' + str(i) for i in range(n_folders)], size=n_rows),\n",
    "    'files': np.random.randint(1, 1000, size=n_rows)  # Generating random integers between 1 and 1000\n",
    "}\n",
    "\n",
    "# Create a DataFrame\n",
    "dump_df = pd.DataFrame(data)\n",
    "\n",
    "# Save to CSV for use with Dask\n",
    "dump_df.to_csv('lrg_dataset.csv', index=False)\n"
   ]
  },
  {
   "cell_type": "raw",
   "id": "223628c1",
   "metadata": {
    "colab": {
     "base_uri": "https://localhost:8080/"
    },
    "id": "KZmyWxHttMuL",
    "outputId": "9c200a26-fb0b-479b-cd0d-e50a191f1d2a"
   },
   "source": [
    "dump_df"
   ]
  },
  {
   "cell_type": "raw",
   "id": "5267feb0",
   "metadata": {
    "colab": {
     "base_uri": "https://localhost:8080/"
    },
    "id": "-5hGgSlEtYln",
    "outputId": "ecdef0d7-765b-4252-f168-8054329e15ae"
   },
   "source": [
    "import dask.dataframe as dd\n",
    "import time\n",
    "\n",
    "# Measure performance with Dask\n",
    "\n",
    "# Load data\n",
    "start_time = time.time()\n",
    "dump_df_dask = dd.read_csv('lrg_dataset.csv')\n",
    "load_time_dask = time.time() - start_time\n",
    "\n",
    "# Group by 'folders' and compute sum of 'files'\n",
    "start_time = time.time()\n",
    "df_grouped_dask = dump_df_dask.groupby('folders')['files'].sum().compute()\n",
    "groupby_time_dask = time.time() - start_time\n",
    "\n",
    "# Print performance results\n",
    "print(f\"Dask Load Time: {load_time_dask:.2f} seconds\")\n",
    "print(f\"Dask Groupby Time: {groupby_time_dask:.2f} seconds\")\n",
    "\n",
    "# Estimate memory usage by converting a sample to Pandas\n",
    "sample_size = 10000000  # Number of rows to sample\n",
    "sample = dump_df_dask.head(sample_size)\n",
    "sample_memory_usage = sample.memory_usage(deep=True).sum()\n",
    "estimated_memory_usage = (sample_memory_usage / sample_size) * len(dump_df_dask)\n",
    "\n",
    "# Estimate memory usage for the grouped data\n",
    "grouped_sample_memory_usage = df_grouped_dask.memory_usage(deep=True).sum() if isinstance(df_grouped_dask, pd.DataFrame) else df_grouped_dask.nbytes\n",
    "estimated_grouped_memory_usage = grouped_sample_memory_usage\n",
    "\n",
    "# Print memory usage results\n",
    "print(f\"Estimated Dask Memory Usage: {estimated_memory_usage / 1e6:.2f} MB\")\n",
    "print(f\"Estimated Dask Grouped Data Memory Usage: {estimated_grouped_memory_usage / 1e6:.2f} MB\")\n"
   ]
  },
  {
   "cell_type": "raw",
   "id": "92a14c5f",
   "metadata": {
    "colab": {
     "base_uri": "https://localhost:8080/"
    },
    "id": "uLNmrJpJw-Bd",
    "outputId": "24d1be78-678c-405f-d1b5-984c895f47a9"
   },
   "source": [
    "import pandas as pd\n",
    "import time\n",
    "\n",
    "# Measure performance and memory usage with Pandas\n",
    "\n",
    "# Load data\n",
    "start_time = time.time()\n",
    "dump_df_pandas = pd.read_csv('lrg_dataset.csv')\n",
    "load_time_pandas = time.time() - start_time\n",
    "\n",
    "# Group by 'Country' and compute sum of 'Value'\n",
    "start_time = time.time()\n",
    "df_grouped_pandas = dump_df_pandas.groupby('folders')['files'].sum().reset_index()\n",
    "groupby_time_pandas = time.time() - start_time\n",
    "\n",
    "# Print results\n",
    "print(f\"Pandas Load Time: {load_time_pandas:.2f} seconds\")\n",
    "print(f\"Pandas Groupby Time: {groupby_time_pandas:.2f} seconds\")\n",
    "\n",
    "# Memory usage\n",
    "print(f\"Pandas Memory Usage: {dump_df_pandas.memory_usage(deep=True).sum() / 1e6:.2f} MB\")\n",
    "print(f\"Pandas Grouped Data Memory Usage: {df_grouped_pandas.memory_usage(deep=True).sum() / 1e6:.2f} MB\")\n"
   ]
  },
  {
   "cell_type": "raw",
   "id": "b3550974",
   "metadata": {
    "colab": {
     "base_uri": "https://localhost:8080/"
    },
    "id": "1T1cQgQ1y6Kz",
    "outputId": "209da594-c8fe-4643-dd1f-32147065e0c9"
   },
   "source": [
    "import dask.dataframe as dd\n",
    "import os\n",
    "import time\n",
    "\n",
    "# Parameters\n",
    "n_rows = 10**7  # Number of rows\n",
    "n_folders = 200  # Number of folders\n",
    "\n",
    "# Path to the dataset\n",
    "file_path = 'lrg_dataset.csv'\n",
    "\n",
    "# # Delete the existing file if it exists\n",
    "# if os.path.exists(file_path):\n",
    "#     os.remove(file_path)\n",
    "#     print(f'{file_path} has been deleted.')\n",
    "\n",
    "# # Generate new synthetic data\n",
    "# np.random.seed(0)  # Set a seed for reproducibility\n",
    "# data = {\n",
    "#     'folders': np.random.choice(['folders_' + str(i) for i in range(n_folders)], size=n_rows),\n",
    "#     'files': np.random.randint(1, 1000, size=n_rows)  # Generating random integers between 1 and 1000\n",
    "# }\n",
    "\n",
    "# # Create a DataFrame\n",
    "# dump_df = pd.DataFrame(data)\n",
    "\n",
    "# # Save or overwrite the CSV file\n",
    "# dump_df.to_csv(file_path, index=False)\n",
    "# print(f'{file_path} has been created/overwritten.')\n",
    "\n",
    "# Timing and memory usage comparison\n",
    "start_time = time.time()\n",
    "# Read the CSV file into a Pandas DataFrame\n",
    "df_pandas = pd.read_csv(file_path)\n",
    "pandas_duration = time.time() - start_time\n",
    "\n",
    "# Perform groupby operation with Pandas\n",
    "start_time = time.time()\n",
    "df_grouped_pandas = df_pandas.groupby('folders').agg({'files': 'sum'}).reset_index()\n",
    "pandas_groupby_duration = time.time() - start_time\n",
    "\n",
    "# Estimate memory usage for Pandas DataFrame\n",
    "pandas_memory_usage = df_pandas.memory_usage(deep=True).sum() / 1e6\n",
    "pandas_grouped_memory_usage = df_grouped_pandas.memory_usage(deep=True).sum() / 1e6\n",
    "\n",
    "# -----------------------------------------------------------------------------------------------------------------------------------------------------------------\n",
    "\n",
    "# Dask operations\n",
    "start_time = time.time()\n",
    "# Read the CSV file into a Dask DataFrame\n",
    "df_dask = dd.read_csv(file_path)\n",
    "dask_duration = time.time() - start_time\n",
    "\n",
    "# Perform groupby operation with Dask\n",
    "start_time = time.time()\n",
    "df_grouped_dask = df_dask.groupby('folders').agg({'files': 'sum'}).compute()\n",
    "dask_groupby_duration = time.time() - start_time\n",
    "\n",
    "# Estimate memory usage for Dask DataFrame (approximation)\n",
    "sample = df_dask.head(10000000)\n",
    "sample_memory_usage = sample.memory_usage(deep=True).sum()\n",
    "dask_memory_usage = sample_memory_usage * (len(df_dask) / len(sample)) / 1e6\n",
    "\n",
    "# Print results\n",
    "print(f\"Pandas Load Duration: {pandas_duration:.2f} seconds\")\n",
    "print(f\"Pandas Groupby Duration: {pandas_groupby_duration:.2f} seconds\")\n",
    "print(f\"Pandas Memory Usage: {pandas_memory_usage:.2f} MB\")\n",
    "print(f\"Pandas Grouped Data Memory Usage: {pandas_grouped_memory_usage:.2f} MB\")\n",
    "print(\"--\"*50)\n",
    "print(f\"Dask Load Duration: {dask_duration:.2f} seconds\")\n",
    "print(f\"Dask Groupby Duration: {dask_groupby_duration:.2f} seconds\")\n",
    "print(f\"Dask Memory Usage (approx): {dask_memory_usage:.2f} MB\")\n"
   ]
  },
  {
   "cell_type": "markdown",
   "id": "fa24cbdd",
   "metadata": {
    "id": "18QsOAWnQVGd"
   },
   "source": [
    "# -----------------------------------------------------------------------------------------------------"
   ]
  },
  {
   "cell_type": "markdown",
   "id": "t0O0MxTSQl86",
   "metadata": {
    "id": "t0O0MxTSQl86"
   },
   "source": [
    "# some extra_analysis & insight."
   ]
  },
  {
   "cell_type": "code",
   "execution_count": null,
   "id": "a0zEe0bhMs4f",
   "metadata": {
    "colab": {
     "base_uri": "https://localhost:8080/",
     "height": 1000
    },
    "id": "a0zEe0bhMs4f",
    "outputId": "f1fea775-365c-4b19-a7c4-91823d1c9a38"
   },
   "outputs": [],
   "source": [
    "# pd.crosstab(df_terr.Country,df_terr.Year,values=df_terr.casualties,aggfunc='sum')   xxxxxxxxxxxxxxxxxxx"
   ]
  },
  {
   "cell_type": "code",
   "execution_count": null,
   "id": "LHtsszPGMs0u",
   "metadata": {
    "colab": {
     "base_uri": "https://localhost:8080/"
    },
    "id": "LHtsszPGMs0u",
    "outputId": "c97612b4-891e-451c-9355-9c9d7a3b1569"
   },
   "outputs": [],
   "source": [
    "# df_terr[df_terr['Country'] == 'Afghanistan'].shape      xxxxxxxxxxxxxxxxxxxxxxx"
   ]
  },
  {
   "cell_type": "code",
   "execution_count": null,
   "id": "oXh77oVymYbZ",
   "metadata": {
    "id": "oXh77oVymYbZ"
   },
   "outputs": [],
   "source": []
  },
  {
   "cell_type": "code",
   "execution_count": null,
   "id": "MQh8-ziLmR4l",
   "metadata": {
    "colab": {
     "base_uri": "https://localhost:8080/",
     "height": 310
    },
    "id": "MQh8-ziLmR4l",
    "outputId": "6db2b789-7cf0-48b0-b866-e08dc44c90b1"
   },
   "outputs": [],
   "source": [
    "# Assuming your DataFrame (df_terr) has a 'Region' column\n",
    "# df_terr['casualties'] = df_terr['Killed'] + df_terr['Wounded']  # Ensure you have the 'casualties' column\n",
    "\n",
    "# Create a pivot table with 'Region' and 'Country' as a multi-level index\n",
    "casual_country_year_region = df_terr.pivot_table(index=['Region', 'Country'], columns='Year', values='casualties', aggfunc='sum')\n",
    "\n",
    "# Fill missing values with 0\n",
    "casual_country_year_region.fillna(0, inplace=True)\n",
    "\n",
    "# Calculate the total casualties for each country\n",
    "casual_country_year_region['[Total_casualties_each_country_under_region]'] = casual_country_year_region.sum(axis=1)\n",
    "\n",
    "# Sort the pivot table based on the total casualties\n",
    "# casual_country_year_region = casual_country_year_region.sort_values(by=['[Total_casualties_each_country_under_region]'], ascending=False)\n",
    "\n",
    "# Display the first few rows of the pivot table\n",
    "# casual_country_year_region\n",
    "casual_country_year_region\n"
   ]
  },
  {
   "cell_type": "code",
   "execution_count": null,
   "id": "WAl8aYCGyFsC",
   "metadata": {
    "id": "WAl8aYCGyFsC"
   },
   "outputs": [],
   "source": []
  },
  {
   "cell_type": "code",
   "execution_count": null,
   "id": "A3AUrlXEH6jw",
   "metadata": {
    "id": "A3AUrlXEH6jw"
   },
   "outputs": [],
   "source": []
  },
  {
   "cell_type": "raw",
   "id": "6d873e55",
   "metadata": {
    "colab": {
     "base_uri": "https://localhost:8080/",
     "height": 363
    },
    "id": "vKUWBpHVnCB0",
    "outputId": "aa2c2c01-392a-44eb-d11e-3289e499d293"
   },
   "source": [
    "# sheet view total cacasualties & killed & wounded each country under region   # stop\n",
    "results_terr =df_terr[['Region','Country','Killed','Wounded','casualties']]\n",
    "results_terr = results_terr.groupby(['Region','Country']).sum().sort_values(by='casualties',ascending=False).reset_index()\n",
    "results_terr.T"
   ]
  },
  {
   "cell_type": "raw",
   "id": "f0dd2919",
   "metadata": {
    "colab": {
     "base_uri": "https://localhost:8080/",
     "height": 238
    },
    "id": "FzcOirE7FWg0",
    "outputId": "036c89e5-4a25-4552-f364-b02e1d842ebd"
   },
   "source": [
    "# killed per year              #stop\n",
    "k = df_terr[[\"Year\", \"Killed\"]].groupby(\"Year\").sum()\n",
    "k.head()"
   ]
  },
  {
   "cell_type": "raw",
   "id": "d804667e",
   "metadata": {
    "colab": {
     "base_uri": "https://localhost:8080/",
     "height": 238
    },
    "id": "B_UhFVxxFWTQ",
    "outputId": "dd3fead5-cecb-4d40-c8b9-e4f264d48412"
   },
   "source": [
    "# wounded per year        #stop\n",
    "w = df_terr[[\"Year\", \"Wounded\"]].groupby(\"Year\").sum()\n",
    "w.head()"
   ]
  },
  {
   "cell_type": "raw",
   "id": "83e0c183",
   "metadata": {
    "colab": {
     "base_uri": "https://localhost:8080/",
     "height": 206
    },
    "id": "WC7qjdY-NbRh",
    "outputId": "687f20e1-fcc5-46d6-b7b5-c5fe9bd44542"
   },
   "source": [
    "merged_k_w = pd.merge(w, k, on=\"Year\")   #stop\n",
    "merged_k_w.reset_index(inplace=True)\n",
    "merged_k_w.head()"
   ]
  },
  {
   "cell_type": "code",
   "execution_count": null,
   "id": "4Lc9-zaIdYOd",
   "metadata": {
    "id": "4Lc9-zaIdYOd"
   },
   "outputs": [],
   "source": []
  },
  {
   "cell_type": "raw",
   "id": "6dac6514",
   "metadata": {
    "colab": {
     "base_uri": "https://localhost:8080/",
     "height": 937
    },
    "id": "dt-PKYlI-Vr1",
    "outputId": "a7a74e2b-9a24-4816-b5e9-bd0b24004e49"
   },
   "source": [
    "# Apply style      #stop\n",
    "plt.style.use('ggplot')\n",
    "\n",
    "# Create a figure and two subplots\n",
    "fig, (ax0, ax1) = plt.subplots(2, 1, figsize=(15, 10))\n",
    "\n",
    "# Plot 'Killed' data\n",
    "k.plot(kind=\"bar\", color='#1f77b4', ax=ax0, legend=True)\n",
    "ax0.set_title(\"People Killed in Each Year\", fontsize=16)\n",
    "ax0.set_xlabel(\"Years\", fontsize=12)\n",
    "ax0.set_ylabel(\"Number of People Killed\", fontsize=12)\n",
    "\n",
    "ax0.set_xticklabels(k.index, rotation=45, fontsize=10)\n",
    "ax0.grid(True, which='both', linestyle='--', linewidth=0.7, alpha=0.7)\n",
    "ax0.tick_params(axis='both', which='major', labelsize=10)\n",
    "ax0.legend([\"Killed\"], loc='upper left', bbox_to_anchor=(0, 1))\n",
    "\n",
    "# Add data labels\n",
    "for i in ax0.containers:\n",
    "    ax0.bar_label(i, label_type='edge', fontsize=7)\n",
    "\n",
    "# Plot 'Wounded' data\n",
    "w.plot(kind=\"bar\", color='#ff7f0e', ax=ax1, legend=True)\n",
    "ax1.set_title(\"People Wounded in Each Year\", fontsize=16)\n",
    "ax1.set_xlabel(\"Years\", fontsize=12)\n",
    "ax1.set_ylabel(\"Number of People Wounded\", fontsize=12)\n",
    "\n",
    "ax1.set_xticklabels(w.index, rotation=45, fontsize=10)\n",
    "ax1.grid(True, which='both', linestyle='--', linewidth=0.7, alpha=0.7)\n",
    "ax1.tick_params(axis='both', which='major', labelsize=10)\n",
    "ax1.legend([\"Wounded\"], loc='upper left', bbox_to_anchor=(0, 1))\n",
    "\n",
    "# Add data labels\n",
    "for i in ax1.containers:\n",
    "    ax1.bar_label(i, label_type='edge', fontsize=7)\n",
    "\n",
    "# Adjust layout for better visualization\n",
    "plt.tight_layout()\n",
    "\n",
    "# Show the plot\n",
    "plt.show()"
   ]
  },
  {
   "cell_type": "code",
   "execution_count": null,
   "id": "h1de-yt4HTMi",
   "metadata": {
    "colab": {
     "base_uri": "https://localhost:8080/"
    },
    "id": "h1de-yt4HTMi",
    "outputId": "e47bff2d-8113-4a78-ab47-de287e854278"
   },
   "outputs": [],
   "source": [
    "# Sum the killed and wounded per country and success status    xxxxxxxxxxxxxxxxxxxxxxxxxxxxxxxxxxxxx\n",
    "# coun_stats = df_terr.groupby(['Country', 'success']).sum().reset_index()\n",
    "\n",
    "# coun_stats_melted = pd.melt(coun_stats, id_vars=['Country', 'success'], value_vars=['Killed', 'Wounded'], var_name='Metric', value_name='Count')\n",
    "\n",
    "# coun_stats_melted.value_counts().reset_index().sort_values(by='Country',ascending=True)"
   ]
  },
  {
   "cell_type": "code",
   "execution_count": null,
   "id": "v6EVnmhutIiK",
   "metadata": {
    "colab": {
     "base_uri": "https://localhost:8080/"
    },
    "id": "v6EVnmhutIiK",
    "outputId": "6f1c3982-bc3a-458e-ca93-6b58ea7f2eb3"
   },
   "outputs": [],
   "source": []
  },
  {
   "cell_type": "raw",
   "id": "334d898f",
   "metadata": {
    "colab": {
     "base_uri": "https://localhost:8080/",
     "height": 1000
    },
    "id": "CeHR7cqnwZ4S",
    "outputId": "8d255cf4-8ac1-4afc-e8e2-42c1b3f958a8"
   },
   "source": [
    "                    #stop\n",
    "# sheet demonstrate number of terrorist attscks each countery & extent of the success and failure of these strikes and thier impact on people\n",
    "# Aggregate the data\n",
    "coun_stats = df_terr.groupby(['Region','Country', 'success']).agg({\n",
    "    'Killed': 'sum',\n",
    "    'Wounded': 'sum',\n",
    "    'Country': 'count'  # Counts the number of occurrences for each (Country, success) pair\n",
    "}).rename(columns={'Country': 'Num_Attacks'}).reset_index()\n",
    "\n",
    "# Melt the DataFrame to combine 'Killed' and 'Wounded' into a single 'Types' column\n",
    "coun_stats_melted = pd.melt(coun_stats, id_vars=['Region','Country', 'Num_Attacks', 'success'], value_vars=['Killed', 'Wounded'], var_name='Types', value_name='Count')\n",
    "\n",
    "# Display the melted DataFrame\n",
    "coun_stats_melted.sort_values(by=['Region', 'Country', 'Types']).reset_index(drop=True).sort_values(by='Count',ascending=False).reset_index(drop=True)\n"
   ]
  },
  {
   "cell_type": "code",
   "execution_count": null,
   "id": "uvN9T7qZLj0I",
   "metadata": {
    "id": "uvN9T7qZLj0I"
   },
   "outputs": [],
   "source": []
  },
  {
   "cell_type": "code",
   "execution_count": null,
   "id": "Se8br0HjLDRO",
   "metadata": {
    "colab": {
     "base_uri": "https://localhost:8080/"
    },
    "id": "Se8br0HjLDRO",
    "outputId": "ffd13b21-f016-425c-e420-4a6be5fae461"
   },
   "outputs": [],
   "source": [
    "# # Get the top 15 countries with the most attacks           xxxxxxxxxxxxxxxxxxxxxxxxxxxxxxxxxxxxxxxx\n",
    "\n",
    "# # Sum the killed and wounded per country and success status\n",
    "# coun_stats = df_terr.groupby(['Country', 'success']).sum().reset_index()\n",
    "\n",
    "# # Count the number of attacks per country and success status\n",
    "# coun_counts = df_terr.groupby(['Country', 'success']).size().reset_index(name='Num_Attacks')\n",
    "\n",
    "# # Merge the counts with the stats DataFrame\n",
    "# coun_stats = pd.merge(coun_stats, coun_counts, on=['Country', 'success'])\n",
    "\n",
    "# # Melt the DataFrame for combined plot\n",
    "# coun_stats_melted = pd.melt(coun_stats, id_vars=['Country', 'Num_Attacks','success'], value_vars=['Killed', 'Wounded'], var_name='Types', value_name='Count')\n",
    "\n",
    "# coun_stats_melted.value_counts().reset_index().sort_values(by='Country',ascending=True)"
   ]
  },
  {
   "cell_type": "code",
   "execution_count": null,
   "id": "f336b4fc",
   "metadata": {
    "colab": {
     "base_uri": "https://localhost:8080/"
    },
    "id": "2T2FQs9sLWq4",
    "outputId": "d7c52f48-9d2d-457d-bb88-282996f3153c"
   },
   "outputs": [],
   "source": [
    "coun_stats_melted = pd.melt(coun_stats, id_vars=['Country', 'Num_Attacks','success'], value_vars=['Killed', 'Wounded'], var_name='Types', value_name='Count')\n",
    "\n",
    "coun_stats_melted.value_counts().reset_index().sort_values(by='Count',ascending=Falsese)"
   ]
  },
  {
   "cell_type": "code",
   "execution_count": null,
   "id": "889YOK1ykvky",
   "metadata": {
    "id": "889YOK1ykvky"
   },
   "outputs": [],
   "source": []
  },
  {
   "cell_type": "raw",
   "id": "8d3e0659",
   "metadata": {
    "colab": {
     "base_uri": "https://localhost:8080/",
     "height": 473
    },
    "id": "shFpbG7ZfQKC",
    "outputId": "4abfbf3b-7247-41c6-b4a3-eeca919aff70"
   },
   "source": [
    "                        #stop\n",
    "# Get the top 15 countries by number of attacks\n",
    "coun_terror = df_terr['Country'].value_counts()[:20].to_frame()\n",
    "coun_terror.columns = ['Attacks']\n",
    "\n",
    "# Sum the number of people killed per country\n",
    "coun_kill = df_terr.groupby('Country')['Killed'].sum().to_frame()\n",
    "\n",
    "# Sum the number of people wounded per country\n",
    "coun_wound = df_terr.groupby('Country')['Wounded'].sum().to_frame()\n",
    "\n",
    "# Merge the information\n",
    "coun_stats = coun_terror.merge(coun_kill, left_index=True, right_index=True, how='left')\n",
    "coun_stats = coun_stats.merge(coun_wound, left_index=True, right_index=True, how='left')\n",
    "\n",
    "# Use seaborn color palette\n",
    "palette = sns.color_palette(\"rocket\", 3)  # Choose a palette with 3 colors\n",
    "\n",
    "# Plot the data\n",
    "fig, ax = plt.subplots(figsize=(18, 6))\n",
    "\n",
    "coun_stats.plot(kind='bar', width=0.9, ax=ax, color=palette)\n",
    "\n",
    "ax.set_title('Top 20 Countries by Number of Attacks, People Killed, and Wounded')\n",
    "ax.set_xlabel('Country')\n",
    "ax.set_ylabel('Count')\n",
    "# ax.legend( labels=['Total Attacks', 'No.Killed', 'No.Wounded'])\n",
    "ax.legend(labels=['Total Attacks', 'No. Killed', 'No. Wounded'], loc='upper center', bbox_to_anchor=(0.5, .99), ncol=3, fontsize=12)\n",
    "\n",
    "\n",
    "plt.xticks(rotation=45,ha='right')\n",
    "plt.tight_layout()\n",
    "plt.grid(axis='y', linestyle='--', linewidth=0.7, alpha=0.7)\n",
    "\n",
    "plt.show()\n",
    "\n"
   ]
  },
  {
   "cell_type": "code",
   "execution_count": null,
   "id": "1b3f212c",
   "metadata": {},
   "outputs": [],
   "source": [
    "reg_terror = df_terr['Region'].value_counts()\n",
    "\n",
    "reg_terror"
   ]
  },
  {
   "cell_type": "raw",
   "id": "b9f58c58",
   "metadata": {
    "id": "A6oOS5ONGzBl"
   },
   "source": [
    "                    #stop\n",
    "# Get the top 15 Region by number of attacks\n",
    "reg_terror = df_terr['Region'].value_counts().to_frame()\n",
    "reg_terror.columns = ['Attacks']\n",
    "\n",
    "# Sum the number of people killed per Region\n",
    "reg_kill = df_terr.groupby('Region')['Killed'].sum().to_frame()\n",
    "\n",
    "# Sum the number of people wounded per Region\n",
    "reg_wound = df_terr.groupby('Region')['Wounded'].sum().to_frame()\n",
    "\n",
    "# Merge the information\n",
    "reg_stats = reg_terror.merge(reg_kill, left_index=True, right_index=True, how='left')\n",
    "reg_stats = reg_stats.merge(reg_wound, left_index=True, right_index=True, how='left')\n",
    "\n",
    "# Use seaborn color palette\n",
    "palette = sns.color_palette(\"rocket\", 3)  # Choose a palette with 3 colors\n",
    "\n",
    "# Plot the data\n",
    "fig, ax = plt.subplots(figsize=(18, 6))\n",
    "\n",
    "reg_stats.plot(kind='bar', width=0.9, ax=ax, color=palette)\n",
    "\n",
    "ax.set_title('Top Region by Number of Attacks, People Killed, and Wounded')\n",
    "ax.set_xlabel('Region')\n",
    "ax.set_ylabel('Count')\n",
    "# ax.legend( labels=['Total Attacks', 'No.Killed', 'No.Wounded'])\n",
    "ax.legend(labels=['Total Attacks', 'No. Killed', 'No. Wounded'], loc='upper center', bbox_to_anchor=(0.5, .99), ncol=3, fontsize=12)\n",
    "\n",
    "\n",
    "plt.xticks(rotation=45,ha='right')\n",
    "plt.tight_layout()\n",
    "plt.grid(axis='y', linestyle='--', linewidth=0.7, alpha=0.7)\n",
    "\n",
    "plt.show()\n",
    "\n"
   ]
  },
  {
   "cell_type": "code",
   "execution_count": null,
   "id": "_hz3Uu56mw81",
   "metadata": {
    "id": "_hz3Uu56mw81"
   },
   "outputs": [],
   "source": [
    "# from IPython.display import display\n",
    "\n",
    "# # Display the pivot table in a Jupyter notebook\n",
    "# display(casual_country_year_region)\n"
   ]
  },
  {
   "cell_type": "code",
   "execution_count": null,
   "id": "H8n9vGKwMsxF",
   "metadata": {
    "colab": {
     "base_uri": "https://localhost:8080/",
     "height": 258
    },
    "id": "H8n9vGKwMsxF",
    "outputId": "992c4d24-1167-4026-fb25-ad58dbc403e9"
   },
   "outputs": [],
   "source": [
    "# sheet numbers casualties attacts terrsion in country per year     xxxxxxxxxxxxxxxxxxxxxxxxxxxx\n",
    "# casual_country_year = df_terr.pivot_table(index='Country',columns='Year',values='casualties')\n",
    "# casual_country_year.fillna(0,inplace=True)\n",
    "# casual_country_year.head()"
   ]
  },
  {
   "cell_type": "code",
   "execution_count": null,
   "id": "kvNx6SHKMsit",
   "metadata": {
    "id": "kvNx6SHKMsit"
   },
   "outputs": [],
   "source": []
  },
  {
   "cell_type": "code",
   "execution_count": null,
   "id": "fdlSXQMJQU0g",
   "metadata": {
    "id": "fdlSXQMJQU0g"
   },
   "outputs": [],
   "source": [
    "# pip install squarify"
   ]
  },
  {
   "cell_type": "raw",
   "id": "09a1edaa",
   "metadata": {
    "colab": {
     "base_uri": "https://localhost:8080/",
     "height": 1000
    },
    "id": "KA7PUkJwahzg",
    "outputId": "840ddbc7-776e-4e03-a0af-6cfbcc7d5511"
   },
   "source": [
    "# top_n = 150\n",
    "# top_countries = country_killings.nlargest(top_n,'Killed')\n",
    "# top_countries"
   ]
  },
  {
   "cell_type": "raw",
   "id": "2f981062",
   "metadata": {
    "id": "_3aRoR-GDvT9"
   },
   "source": [
    "# Improved plot\n",
    "plt.figure(figsize=(14, 10))\n",
    "colors = plt.cm.Reds(top_countries['Killed'] / max(top_countries['Killed']))\n",
    "\n",
    "# Plot squarify treemap\n",
    "squarify.plot(\n",
    "    sizes=top_countries['Killed'],\n",
    "    color=colors,\n",
    "    alpha=0.8,\n",
    "    edgecolor=\"black\",  # Add borders to the rectangles\n",
    "    linewidth=1  # Set border width\n",
    ")\n",
    "\n",
    "# Add title and axis settings\n",
    "plt.title(\"Killings in Global Terrorism (Top 100 Countries)\", fontsize=18)\n",
    "plt.axis('off')\n",
    "\n",
    "# Add color bar\n",
    "sm = plt.cm.ScalarMappable(cmap='Reds', norm=plt.Normalize(vmin=top_countries['Killed'].min(), vmax=top_countries['Killed'].max()))\n",
    "sm.set_array([])\n",
    "cbar = plt.colorbar(sm)\n",
    "cbar.ax.set_title('Killings', fontsize=12)\n",
    "\n",
    "# Dynamic text sizing and wrapping\n",
    "for rect, label in zip(plt.gca().patches, top_countries.apply(lambda x: f\"{x['Country']}\", axis=1)):\n",
    "    x, y, width, height = rect.get_x(), rect.get_y(), rect.get_width(), rect.get_height()\n",
    "    fontsize = min(width, height) / 10  # Adjust font size based on rectangle dimensions\n",
    "    # Wrap text\n",
    "    wrapped_label = textwrap.fill(label, width=int(width // fontsize * 2))\n",
    "    plt.text(x + width / 2, y + height / 2, wrapped_label, ha='center', va='center', fontsize=fontsize*6)\n",
    "\n",
    "plt.show()\n"
   ]
  },
  {
   "cell_type": "code",
   "execution_count": null,
   "id": "e9f2a97f",
   "metadata": {},
   "outputs": [],
   "source": [
    "df_terr.columns"
   ]
  },
  {
   "cell_type": "code",
   "execution_count": null,
   "id": "tf4B0lYiGAyy",
   "metadata": {
    "id": "tf4B0lYiGAyy"
   },
   "outputs": [],
   "source": [
    "# Group by Country and Year and sum the number of killings\n",
    "country_killings = df_terr.groupby(['Country','success'])['Killed'].sum().reset_index()\n",
    "\n",
    "# Sort the data by the number of killings in descending order\n",
    "# top_countries=country_killings.nlargest(10,'Killed')\n",
    "# top_countries\n",
    "country_killings"
   ]
  },
  {
   "cell_type": "raw",
   "id": "a69570f1",
   "metadata": {
    "colab": {
     "base_uri": "https://localhost:8080/",
     "height": 542
    },
    "id": "TsW4uilxy-zJ",
    "outputId": "b2ea16dc-87b7-4d0d-d7c1-ec1b6f6b741a"
   },
   "source": [
    "# its' okay ----> #stop\n",
    "import plotly.express as px\n",
    "\n",
    "# Group by Country and Year and sum the number of killings\n",
    "country_killings = df_terr.groupby(['Country'])['Killed'].sum().reset_index()\n",
    "\n",
    "# Sort the data by the number of killings in descending order\n",
    "top_countries=country_killings.nlargest(150,'Killed')\n",
    "top_countries\n",
    "\n",
    "# Create a treemap with Plotly\n",
    "fig = px.treemap(\n",
    "    top_countries,\n",
    "    path=['Country'],\n",
    "    values='Killed',\n",
    "    color='Killed',\n",
    "    color_continuous_scale='Reds',\n",
    "    title='Killings in Global Terrorism (Top 150 Countries)',\n",
    "    labels={'Killed': 'Number of Killings'}\n",
    ")\n",
    "\n",
    "# Customize layout for better readability\n",
    "fig.update_layout(\n",
    "    title={\n",
    "        'text': 'Killings in Global Terrorism (Top 150 Countries)',\n",
    "        'font_size': 24,\n",
    "        'font_family': 'Arial black',\n",
    "        'x': 0.5,\n",
    "        # 'y': 1,\n",
    "        'xanchor': 'center'\n",
    "    },\n",
    "    margin=dict(t=60, l=10, r=10, b=20),\n",
    "    coloraxis_colorbar=dict(\n",
    "    #     title='Number of Killings',\n",
    "        # tickvals=[0, top_countries['Killed'].max()],\n",
    "        # ticktext=['Low', 'High'],\n",
    "        # tickfont=dict(size=14, color='black', family='Arial',),\n",
    "        title_font=dict(size=12, color='darkred'),\n",
    "        lenmode='pixels',\n",
    "    #     # len=3000\n",
    "    ),\n",
    "    # uniformtext=dict(minsize=12, mode='hide'),  # Adjust text size and hiding mode\n",
    "    showlegend=True  # Hide legend if not needed\n",
    ")\n",
    "\n",
    "# # Customize text for better readability\n",
    "fig.update_traces(\n",
    "    texttemplate='%{label}<br>%{value:,}',  # Format text for better readability\n",
    "    textfont=dict(size=17, color='black', family='Arial black'),  # Customize text font and color\n",
    "    marker_line=dict(color='darkcyan', width=1),  # Add borders around the blocks\n",
    "    hovertemplate='<b>%{label}</b><br>Number of Killings: %{value:,}<extra></extra>',  # Improve hover text\n",
    "    textposition='middle center', # Place text in the middle of the blocks\n",
    "\n",
    ")\n",
    "\n",
    "# # Add annotations to highlight specific data points (optional)\n",
    "# annotations = [\n",
    "#     dict(\n",
    "#         x=1, y=1,\n",
    "#         text='',\n",
    "#         showarrow=False,\n",
    "#         font=dict(size=20, color='white')\n",
    "#     )\n",
    "# ]\n",
    "# fig.update_layout(annotations=annotations)\n",
    "\n",
    "# Show plot\n",
    "fig.show()\n"
   ]
  },
  {
   "cell_type": "code",
   "execution_count": null,
   "id": "etIqYWvlEmdX",
   "metadata": {
    "colab": {
     "base_uri": "https://localhost:8080/"
    },
    "id": "etIqYWvlEmdX",
    "outputId": "c8acce24-b959-4eff-99aa-c2b228dccdf0"
   },
   "outputs": [],
   "source": [
    "country_year_killings = df_terr.groupby(['Country', 'Year'])['Killed'].sum().reset_index()\n",
    "top_countries_year=country_year_killings.nlargest(10,'Killed')\n",
    "top_countries_year"
   ]
  },
  {
   "cell_type": "raw",
   "id": "d5c022d9",
   "metadata": {
    "colab": {
     "base_uri": "https://localhost:8080/",
     "height": 542
    },
    "id": "wou-VbS7Dz0G",
    "outputId": "3f7fd622-788c-4d9b-cb6e-3976ad1058cf"
   },
   "source": [
    "import plotly.express as px\n",
    "# Group by Country and Year and sum the number of killings\n",
    "country_year_killings = df_terr.groupby(['Country', 'Year'])['Killed'].sum().reset_index()\n",
    "\n",
    "# Sort the data by the number of killings in descending order\n",
    "top_countries_year=country_year_killings.nlargest(50,'Killed')\n",
    "top_countries_year\n",
    "# Create a treemap with Plotly\n",
    "fig = px.treemap(\n",
    "    top_countries_year,\n",
    "    path=['Country', 'Year'],\n",
    "    values='Killed',\n",
    "    color='Killed',\n",
    "    color_continuous_scale='Reds',\n",
    "    title='Killings in Global Terrorism (Top 50 Years under Countries)',\n",
    "    labels={'Killed': 'Number of Killings'}\n",
    ")\n",
    "\n",
    "# Customize layout for better readability\n",
    "fig.update_layout(\n",
    "    title={\n",
    "        # 'text': title,\n",
    "        'font_size': 24,\n",
    "        'font_family': 'Arial Black',\n",
    "        'x': 0.5,\n",
    "        'xanchor': 'center'\n",
    "    },\n",
    "    margin=dict(t=60, l=10, r=10, b=20),\n",
    "    coloraxis_colorbar=dict(\n",
    "    #     title='Number of Killings',\n",
    "        tickvals=[0, top_countries_year['Killed'].max()],\n",
    "        ticktext=['Low', 'High'],\n",
    "    #     tickfont=dict(size=14, color='black', family='Arial'),\n",
    "    #     title_font=dict(size=12, color='darkred'),\n",
    "    #     lenmode='pixels',\n",
    "    ),\n",
    "    showlegend=True\n",
    ")\n",
    "\n",
    "# Customize text for better readability\n",
    "fig.update_traces(\n",
    "    texttemplate='Year:%{label}<br>Number of Killings: <br>%{value:,}',  # Format text for better readability\n",
    "    textfont=dict(size=17, color='black', family='Arial Black'),  # Customize text font and color\n",
    "    marker_line=dict(color='darkcyan', width=1),  # Add borders around the blocks\n",
    "    hovertemplate='Year:%{label}</b><br>Number of Killings: %{value:,}<extra></extra>',  # Improve hover text\n",
    "    textposition='middle center',  # Place text in the middle of the blocks\n",
    ")\n",
    "\n",
    "# Add annotations to highlight specific data points (optional)\n",
    "annotations = [\n",
    "    dict(\n",
    "        x=0.5, y=1.05,\n",
    "        text=' ',\n",
    "        showarrow=False,\n",
    "        font=dict(size=14, color='grey'),\n",
    "        xref='paper',\n",
    "        yref='paper'\n",
    "    )\n",
    "]\n",
    "fig.update_layout(annotations=annotations)\n",
    "\n",
    "# Show plot\n",
    "fig.show()\n"
   ]
  },
  {
   "cell_type": "markdown",
   "id": "KIFRjDsMcTbl",
   "metadata": {
    "id": "KIFRjDsMcTbl"
   },
   "source": [
    "# cheat sheet viwe number of casualties kill & wound each region\n"
   ]
  },
  {
   "cell_type": "code",
   "execution_count": null,
   "id": "d24d5706",
   "metadata": {},
   "outputs": [],
   "source": [
    "coun_stats_melted"
   ]
  },
  {
   "cell_type": "code",
   "execution_count": null,
   "id": "5tZck5GYD0WO",
   "metadata": {
    "colab": {
     "base_uri": "https://localhost:8080/",
     "height": 802
    },
    "id": "5tZck5GYD0WO",
    "outputId": "6f94566e-c65c-48e4-e91d-2765f9b20909"
   },
   "outputs": [],
   "source": [
    "# cheat sheet viwe number of casualties kill & wound each region\n",
    "sheet_Region = coun_stats_melted.drop(columns=['Country','success']).rename(columns={'Counts_Types': 'NO.casualties_ related_types'})\n",
    "killed_wounded_region_sh= sheet_Region.groupby(['Region','Types']).sum().reset_index()\n",
    "killed_wounded_region_sh"
   ]
  },
  {
   "cell_type": "code",
   "execution_count": null,
   "id": "sdUWFpZJkd7_",
   "metadata": {
    "id": "sdUWFpZJkd7_"
   },
   "outputs": [],
   "source": [
    "# graph region on here ok"
   ]
  },
  {
   "cell_type": "raw",
   "id": "d14ade2f",
   "metadata": {
    "colab": {
     "base_uri": "https://localhost:8080/",
     "height": 363
    },
    "id": "KiAbBhYFkd4q",
    "outputId": "2e45a2b2-9fb6-42aa-be65-b8281ca9d3ac"
   },
   "source": [
    "#stop\n",
    "killed_wounded_attack_type = df_terr.groupby('AttackType').agg({'AttackType':'count','Killed': 'sum', 'Wounded': 'sum',}).rename(columns={'AttackType':'Num_Attacks'}).reset_index()\n",
    "killed_wounded_attack_type.set_index('AttackType',inplace=True)\n",
    "killed_wounded_attack_type\n",
    "\n"
   ]
  },
  {
   "cell_type": "raw",
   "id": "b28e0950",
   "metadata": {
    "colab": {
     "base_uri": "https://localhost:8080/",
     "height": 332
    },
    "id": "lBvkPjoSkd1u",
    "outputId": "cc2e7636-6936-4390-a7c3-59708a324dc3"
   },
   "source": [
    "#stop\n",
    "killed_wounded_attack_type.reset_index().sort_values(by='Num_Attacks',ascending=False)"
   ]
  },
  {
   "cell_type": "raw",
   "id": "61cd7f2c",
   "metadata": {
    "colab": {
     "base_uri": "https://localhost:8080/",
     "height": 768
    },
    "id": "N3dzgcQN30lZ",
    "outputId": "b69aaa42-090a-4b56-b5de-2797aecb2b24"
   },
   "source": [
    "                    #stop\n",
    "# Set the figure size\n",
    "plt.figure(figsize=(15, 6))\n",
    "\n",
    "# Create a count plot with Seaborn\n",
    "sns.countplot(\n",
    "    x='AttackType',\n",
    "    data=df_terr,\n",
    "    palette='Reds_r',\n",
    "    order=df_terr['AttackType'].value_counts().index\n",
    ")\n",
    "\n",
    "# Rotate x-axis labels for better readability\n",
    "plt.xticks(rotation=55,ha='right')\n",
    "\n",
    "# Add a title to the plot\n",
    "plt.title('Attacking Methods by Terrorists', fontsize=16)\n",
    "\n",
    "# Show the plot\n",
    "# plt.tight_layout()  # Adjust layout to fit labels and title\n",
    "plt.show()"
   ]
  },
  {
   "cell_type": "raw",
   "id": "c347e7b5",
   "metadata": {
    "colab": {
     "base_uri": "https://localhost:8080/",
     "height": 686
    },
    "id": "o34iaSsBkdyM",
    "outputId": "00243e06-c083-4e25-de18-417921c22fcb"
   },
   "source": [
    "                    #stop\n",
    "# Use seaborn color palette\n",
    "palette = sns.color_palette(\"gist_heat\",3 )  # Choose a palette with 3 colors\n",
    "\n",
    "# Plot the data\n",
    "fig, ax = plt.subplots(figsize=(18, 6))\n",
    "killed_wounded_attack_type.plot(kind='bar', width=0.9, ax=ax, color=palette)\n",
    "\n",
    "ax.set_title('Number of Attacks, People Killed, and Wounded by Attack Type', fontsize=16)\n",
    "ax.set_xlabel('Attack Type', fontsize=14)\n",
    "ax.set_ylabel('Count', fontsize=14)\n",
    "\n",
    "# Set x-axis ticks and labels\n",
    "ax.set_xticklabels(killed_wounded_attack_type.index, rotation=45, ha='right')\n",
    "\n",
    "# Add legend\n",
    "legend = ax.legend(loc='upper center', bbox_to_anchor=(0.85, .97), fontsize=11, ncol=3, frameon=True)\n",
    "frame = legend.get_frame()\n",
    "frame.set_facecolor('lightgrey')  # Set the background color of the legend box\n",
    "frame.set_edgecolor('black')\n",
    "\n",
    "# Add gridlines for better readability\n",
    "ax.grid(axis='y', linestyle='--', linewidth=0.7, alpha=0.7)\n",
    "\n",
    "# plt.tight_layout()\n",
    "plt.show()"
   ]
  },
  {
   "cell_type": "markdown",
   "id": "jU3_hHEfATL7",
   "metadata": {
    "id": "jU3_hHEfATL7"
   },
   "source": [
    "# **Now let us check out which Terrorist organizations have carried out their operations in each country.**"
   ]
  },
  {
   "cell_type": "markdown",
   "id": "imo0N2j4OFHX",
   "metadata": {
    "id": "imo0N2j4OFHX"
   },
   "source": [
    "# TO TREAT data unknown"
   ]
  },
  {
   "cell_type": "raw",
   "id": "3d754452",
   "metadata": {
    "id": "oGPI-uVxkdua"
   },
   "source": [
    "df_terr.loc[df_terr['Group'] == 'Unknown', 'Group'] = 'Israel Security Intelligence Service (ISIS)'\n"
   ]
  },
  {
   "cell_type": "raw",
   "id": "6da1aa6a",
   "metadata": {
    "colab": {
     "base_uri": "https://localhost:8080/"
    },
    "id": "00oaE9LYOERQ",
    "outputId": "d5142adc-4723-42dd-c406-ad3f7f14491b"
   },
   "source": [
    "df_terr.value_counts('Group')"
   ]
  },
  {
   "cell_type": "code",
   "execution_count": null,
   "id": "C42jibc9RiCV",
   "metadata": {
    "id": "C42jibc9RiCV"
   },
   "outputs": [],
   "source": [
    "# df_terr['Group'].value_counts().values[:15]\n",
    "# df_terr['Group'].value_counts()[:15].values"
   ]
  },
  {
   "cell_type": "raw",
   "id": "1b5d2fdd",
   "metadata": {
    "colab": {
     "base_uri": "https://localhost:8080/",
     "height": 728
    },
    "id": "R8oJi09Ikdq3",
    "outputId": "70551571-b59f-4fd7-a157-ac3f9bd5282d"
   },
   "source": [
    "palette = sns.color_palette(\"hot\",15)\n",
    "\n",
    "# Create the plot\n",
    "plt.figure(figsize=(12, 8))\n",
    "bar_plot = sns.barplot(x=df_terr['Group'].value_counts()[:15].values, y=df_terr['Group'].value_counts()[:15].index, data=df_terr[:15], palette=palette)\n",
    "\n",
    "# Enhance the plot with annotations\n",
    "for p in bar_plot.patches:\n",
    "    width = p.get_width()\n",
    "    bar_plot.text(width + 0.5, p.get_y() + p.get_height() / 2, f'{int(width)}',\n",
    "                  va='center', ha='left', fontsize=10, color='black', weight='bold')\n",
    "\n",
    "# Set plot title and labels\n",
    "plt.title('Top 15 Terrorist Groups with Highest Number of Terror Attacks', fontsize=18, weight='bold',)\n",
    "plt.xlabel('Number of Attacks', fontsize=14)\n",
    "plt.ylabel('Terrorist Group', fontsize=14)\n",
    "\n",
    "# Add gridlines for better readability\n",
    "plt.grid(axis='x', linestyle='--', linewidth=0.7, alpha=0.7)\n",
    "\n",
    "# Adjust layout for better visualization\n",
    "# plt.tight_layout()\n",
    "\n",
    "# Show the plot\n",
    "plt.show()"
   ]
  },
  {
   "cell_type": "code",
   "execution_count": null,
   "id": "sY-ecCGujJoa",
   "metadata": {
    "colab": {
     "base_uri": "https://localhost:8080/"
    },
    "id": "sY-ecCGujJoa",
    "outputId": "41b4dc62-2980-47ef-b3cf-f04c90dfd2be"
   },
   "outputs": [],
   "source": [
    "# pip install geopandas"
   ]
  },
  {
   "cell_type": "code",
   "execution_count": null,
   "id": "YXotuMCioND_",
   "metadata": {
    "id": "YXotuMCioND_"
   },
   "outputs": [],
   "source": []
  },
  {
   "cell_type": "code",
   "execution_count": 21,
   "id": "7d48227c",
   "metadata": {},
   "outputs": [
    {
     "data": {
      "image/png": "[encoded data removed]",
      "text/plain": [
       "<Figure size 1584x720 with 1 Axes>"
      ]
     },
     "metadata": {
      "needs_background": "light"
     },
     "output_type": "display_data"
    }
   ],
   "source": [
    "# its okay\n",
    "import geopandas as gpd\n",
    "from shapely.geometry import Point\n",
    "\n",
    "# Ensure your df_terr DataFrame has 'longitude' and 'latitude' columns\n",
    "df_terr['Coordinates'] = df_terr.apply(lambda row: Point(row['longitude'], row['latitude']), axis=1)\n",
    "\n",
    "# Create a GeoDataFrame\n",
    "gdf_terr = gpd.GeoDataFrame(df_terr, geometry='Coordinates')\n",
    "\n",
    "# Filter top 15 groups by number of attacks\n",
    "top_groups = df_terr[df_terr['Group'].isin(df_terr['Group'].value_counts()[:15].index)]\n",
    "\n",
    "# Create a GeoDataFrame for top groups\n",
    "gdf_top_groups = gpd.GeoDataFrame(top_groups, geometry='Coordinates')\n",
    "\n",
    "# Load the world map shapefile (replace 'path_to_shapefile' with your actual path)\n",
    "world = gpd.read_file(\"ne_110m_admin_0_countries\\\\ne_110m_admin_0_countries.shp\")\n",
    "\n",
    "# Plot the map\n",
    "fig, ax = plt.subplots(figsize=(22, 10))\n",
    "ax.patch.set_facecolor('lightblue')\n",
    "\n",
    "world.plot(ax=ax, color='burlywood', edgecolor='black')\n",
    "\n",
    "# Define colors and groups\n",
    "colors = ['r', 'g', 'b', 'y', '#800000', '#ff1100', '#8202fa', '#20fad9', '#ff5733', '#fa02c6', \"#f99504\", '#b3b6b7', '#8e44ad', '#1a2b3c']\n",
    "groups = list(gdf_top_groups['Group'].unique())\n",
    "\n",
    "# Plot points for each group\n",
    "for group, color in zip(groups, colors):\n",
    "    group_data = gdf_top_groups[gdf_top_groups['Group'] == group]\n",
    "    group_data.plot(ax=ax, marker='o', color=color, markersize=5, label=group, alpha=0.6)\n",
    "\n",
    "# Add legend\n",
    "legend = plt.legend(loc='lower left', frameon=True, prop={'size': 10})\n",
    "frame = legend.get_frame()\n",
    "frame.set_facecolor('white')\n",
    "\n",
    "# Set plot title\n",
    "plt.title('Regional Activities of Terrorist Groups')\n",
    "\n",
    "# Show the plot\n",
    "plt.show()\n"
   ]
  },
  {
   "cell_type": "raw",
   "id": "c8e55435",
   "metadata": {
    "colab": {
     "base_uri": "https://localhost:8080/"
    },
    "id": "-W8vvwf33244",
    "outputId": "ec2de29b-86cc-449e-ae19-1e233b15419c"
   },
   "source": [
    "df_terr.Target_type.head()"
   ]
  },
  {
   "cell_type": "raw",
   "id": "b594c531",
   "metadata": {
    "id": "Gj01W4KZSC1d"
   },
   "source": [
    "#xxxxxxxxxxxxxxxxxxxxxxxxxxxxxxxxxxxx\n",
    "# import matplotlib.pyplot as plt\n",
    "# import seaborn as sns\n",
    "\n",
    "# # Set the size of the plot\n",
    "# plt.figure(figsize=(15, 6))\n",
    "\n",
    "# # Create the countplot\n",
    "# sns.countplot(\n",
    "#     x='Target_type',\n",
    "#     data=df_terr,\n",
    "#     palette='inferno',\n",
    "#     order=df_terr['Target_type'].value_counts().index\n",
    "# )\n",
    "\n",
    "# # Rotate x-axis labels for better readability\n",
    "# plt.xticks(rotation=90)\n",
    "\n",
    "# # Set plot title\n",
    "# plt.title('The most targeted targets of terrorist attacks', fontsize=16, weight='bold')\n",
    "\n",
    "# # Set x and y axis labels\n",
    "# plt.xlabel('Target Type', fontsize=14)\n",
    "# plt.ylabel('Number of Attacks', fontsize=14)\n",
    "\n",
    "# # Optionally, add gridlines for y-axis\n",
    "# plt.grid(axis='y', linestyle='--', linewidth=0.7, alpha=0.7)\n",
    "\n",
    "# # Show the plot\n",
    "# plt.tight_layout()\n",
    "# plt.show()\n"
   ]
  },
  {
   "cell_type": "raw",
   "id": "a670cd48",
   "metadata": {
    "colab": {
     "base_uri": "https://localhost:8080/",
     "height": 521
    },
    "id": "Onec-_iB7gBN",
    "outputId": "21da0136-30c2-4c9d-829a-5afab31865f9"
   },
   "source": [
    "# Filter out rows where 'Target_type' is 'Unknown'\n",
    "Target_type_filter = df_terr[df_terr['Target_type'] != 'Unknown']\n",
    "Target_type_filter.head()"
   ]
  },
  {
   "cell_type": "raw",
   "id": "6df06c4a",
   "metadata": {
    "colab": {
     "base_uri": "https://localhost:8080/",
     "height": 783
    },
    "id": "FPz91WnM3mQh",
    "outputId": "157501c0-27d9-4ce4-a763-053dff092ba3",
    "scrolled": false
   },
   "source": [
    "\n",
    "# Set the size and style of the plot\n",
    "plt.figure(figsize=(15, 6))\n",
    "sns.set(style=\"whitegrid\")  # Set the style to 'whitegrid' for a cleaner background\n",
    "\n",
    "# Create the countplot\n",
    "ax = sns.countplot(\n",
    "    x='Target_type',\n",
    "    data=Target_type_filter,\n",
    "    palette='inferno',\n",
    "    order=Target_type_filter['Target_type'].value_counts().index\n",
    ")\n",
    "\n",
    "# Add annotations on top of the bars\n",
    "for p in ax.patches:\n",
    "    height = p.get_height()\n",
    "    ax.annotate(f'{int(height)}',\n",
    "                (p.get_x() + p.get_width() / 2., height),\n",
    "                ha='center',\n",
    "                va='center',\n",
    "                xytext=(0, 10),\n",
    "                textcoords='offset points',\n",
    "                fontsize=12,\n",
    "                weight='bold',\n",
    "                color='black')\n",
    "\n",
    "# Rotate x-axis labels for better readability\n",
    "plt.xticks(rotation=90, ha='right')\n",
    "\n",
    "# Set plot title and labels\n",
    "plt.title('The most targeted targets of terrorist attacks', fontsize=18, weight='bold')\n",
    "plt.xlabel('Target Type', fontsize=14)\n",
    "plt.ylabel('Number of Attacks', fontsize=14)\n",
    "\n",
    "# Add gridlines for y-axis\n",
    "plt.grid(axis='y', linestyle='--', linewidth=0.7, alpha=0.7)\n",
    "\n",
    "# Adjust layout for better spacing\n",
    "# plt.tight_layout()\n",
    "\n",
    "# Show the plot\n",
    "plt.show()\n"
   ]
  },
  {
   "cell_type": "code",
   "execution_count": null,
   "id": "x2NFBj1m6C3m",
   "metadata": {
    "id": "x2NFBj1m6C3m"
   },
   "outputs": [],
   "source": []
  }
 ],
 "metadata": {
  "colab": {
   "collapsed_sections": [
    "5c0ac6cc",
    "fCaAah13XbKO",
    "lMXCFgqOpt71"
   ],
   "provenance": []
  },
  "kernelspec": {
   "display_name": "Python 3 (ipykernel)",
   "language": "python",
   "name": "python3"
  },
  "language_info": {
   "codemirror_mode": {
    "name": "ipython",
    "version": 3
   },
   "file_extension": ".py",
   "mimetype": "text/x-python",
   "name": "python",
   "nbconvert_exporter": "python",
   "pygments_lexer": "ipython3",
   "version": "3.9.7"
  }
 },
 "nbformat": 4,
 "nbformat_minor": 5
}
